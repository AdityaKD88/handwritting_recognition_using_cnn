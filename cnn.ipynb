{
 "cells": [
  {
   "cell_type": "markdown",
   "metadata": {},
   "source": [
    "# Importing libraries"
   ]
  },
  {
   "cell_type": "code",
   "execution_count": 21,
   "metadata": {},
   "outputs": [],
   "source": [
    "import os\n",
    "import matplotlib.pyplot as plt\n",
    "from PIL import Image"
   ]
  },
  {
   "cell_type": "code",
   "execution_count": 40,
   "metadata": {},
   "outputs": [],
   "source": [
    "from sklearn.preprocessing import StandardScaler\n",
    "from keras.models import Sequential # class of NN\n",
    "from keras.layers import Convolution2D # class for adding convulution\n",
    "from keras.layers import MaxPooling2D # pooling layer class\n",
    "from keras.layers import Flatten # flatten layer class\n",
    "from keras.layers import Dense, Dropout # other normal layers in NN\n",
    "import tensorflow as tf\n",
    "from keras.preprocessing.image import ImageDataGenerator\n",
    "from joblib import dump"
   ]
  },
  {
   "cell_type": "code",
   "execution_count": 23,
   "metadata": {},
   "outputs": [
    {
     "data": {
      "text/plain": [
       "['test_set', 'training_set']"
      ]
     },
     "execution_count": 23,
     "metadata": {},
     "output_type": "execute_result"
    }
   ],
   "source": [
    "os.listdir('datasets')"
   ]
  },
  {
   "cell_type": "markdown",
   "metadata": {},
   "source": [
    "### Initialising the CNN"
   ]
  },
  {
   "cell_type": "code",
   "execution_count": 24,
   "metadata": {},
   "outputs": [],
   "source": [
    "classifier = Sequential()\n",
    "\n",
    "classifier.add(Convolution2D(filters = 16,\n",
    "                            kernel_size = (5, 5),\n",
    "                            input_shape = (512, 512, 1),\n",
    "                            activation = 'relu'))\n",
    "\n",
    "classifier.add(MaxPooling2D(pool_size = (2, 2)))\n",
    "classifier.add(Dropout(.2))\n",
    "classifier.add(Convolution2D(filters = 32,\n",
    "                            kernel_size = (5, 5),\n",
    "                            activation = 'relu'))"
   ]
  },
  {
   "cell_type": "markdown",
   "metadata": {},
   "source": [
    "### Adding a second maxpooling layer"
   ]
  },
  {
   "cell_type": "code",
   "execution_count": 25,
   "metadata": {},
   "outputs": [],
   "source": [
    "classifier.add(MaxPooling2D(pool_size = (2, 2)))\n",
    "classifier.add(Dropout(.2))"
   ]
  },
  {
   "cell_type": "markdown",
   "metadata": {},
   "source": [
    "### Flattening"
   ]
  },
  {
   "cell_type": "code",
   "execution_count": 26,
   "metadata": {},
   "outputs": [],
   "source": [
    "classifier.add(Flatten())"
   ]
  },
  {
   "cell_type": "markdown",
   "metadata": {},
   "source": [
    "### Full connection"
   ]
  },
  {
   "cell_type": "code",
   "execution_count": 27,
   "metadata": {},
   "outputs": [],
   "source": [
    "classifier.add(Dense(units = 128, activation = 'relu'))\n",
    "classifier.add(Dense(units = 1, activation = 'sigmoid'))"
   ]
  },
  {
   "cell_type": "markdown",
   "metadata": {},
   "source": [
    "### Compiling the CNN"
   ]
  },
  {
   "cell_type": "code",
   "execution_count": 28,
   "metadata": {},
   "outputs": [],
   "source": [
    "classifier.compile(optimizer = 'adam',\n",
    "                    loss = 'binary_crossentropy',\n",
    "                    metrics = ['accuracy'])"
   ]
  },
  {
   "cell_type": "code",
   "execution_count": 29,
   "metadata": {},
   "outputs": [
    {
     "name": "stdout",
     "output_type": "stream",
     "text": [
      "Model: \"sequential_3\"\n",
      "_________________________________________________________________\n",
      " Layer (type)                Output Shape              Param #   \n",
      "=================================================================\n",
      " conv2d_4 (Conv2D)           (None, 508, 508, 16)      416       \n",
      "                                                                 \n",
      " max_pooling2d_2 (MaxPooling  (None, 254, 254, 16)     0         \n",
      " 2D)                                                             \n",
      "                                                                 \n",
      " dropout_2 (Dropout)         (None, 254, 254, 16)      0         \n",
      "                                                                 \n",
      " conv2d_5 (Conv2D)           (None, 250, 250, 32)      12832     \n",
      "                                                                 \n",
      " max_pooling2d_3 (MaxPooling  (None, 125, 125, 32)     0         \n",
      " 2D)                                                             \n",
      "                                                                 \n",
      " dropout_3 (Dropout)         (None, 125, 125, 32)      0         \n",
      "                                                                 \n",
      " flatten_1 (Flatten)         (None, 500000)            0         \n",
      "                                                                 \n",
      " dense_2 (Dense)             (None, 128)               64000128  \n",
      "                                                                 \n",
      " dense_3 (Dense)             (None, 1)                 129       \n",
      "                                                                 \n",
      "=================================================================\n",
      "Total params: 64,013,505\n",
      "Trainable params: 64,013,505\n",
      "Non-trainable params: 0\n",
      "_________________________________________________________________\n"
     ]
    }
   ],
   "source": [
    "classifier.summary()"
   ]
  },
  {
   "cell_type": "code",
   "execution_count": 30,
   "metadata": {},
   "outputs": [],
   "source": [
    "def to_grayscale_then_rgb(image):\n",
    "    # image = tf.image.rgb_to_grayscale(image)\n",
    "    # image = tf.image.grayscale_to_rgb(image)\n",
    "    return image"
   ]
  },
  {
   "cell_type": "code",
   "execution_count": 31,
   "metadata": {},
   "outputs": [],
   "source": [
    "train_datagen = ImageDataGenerator(rescale = 1/255,\n",
    "                                    preprocessing_function = to_grayscale_then_rgb)\n",
    "\n",
    "test_datagen = ImageDataGenerator(rescale = 1/255, preprocessing_function = to_grayscale_then_rgb)"
   ]
  },
  {
   "cell_type": "code",
   "execution_count": 32,
   "metadata": {},
   "outputs": [
    {
     "name": "stdout",
     "output_type": "stream",
     "text": [
      "Found 200 images belonging to 2 classes.\n",
      "Found 120 images belonging to 2 classes.\n"
     ]
    }
   ],
   "source": [
    "tr = train_datagen.flow_from_directory(\n",
    "        'datasets/training_set',\n",
    "        target_size = (512, 512),\n",
    "        batch_size = 2,\n",
    "        class_mode = 'binary',\n",
    "        color_mode = 'grayscale')\n",
    "\n",
    "tx = test_datagen.flow_from_directory(\n",
    "        'datasets/test_set',\n",
    "        target_size = (512, 512),\n",
    "        batch_size = 2,\n",
    "        class_mode = 'binary',\n",
    "        color_mode = 'grayscale')"
   ]
  },
  {
   "cell_type": "code",
   "execution_count": 33,
   "metadata": {},
   "outputs": [
    {
     "data": {
      "text/plain": [
       "(512, 512, 1)"
      ]
     },
     "execution_count": 33,
     "metadata": {},
     "output_type": "execute_result"
    }
   ],
   "source": [
    "tr.image_shape"
   ]
  },
  {
   "cell_type": "code",
   "execution_count": 34,
   "metadata": {},
   "outputs": [
    {
     "data": {
      "text/plain": [
       "(512, 512, 1)"
      ]
     },
     "execution_count": 34,
     "metadata": {},
     "output_type": "execute_result"
    }
   ],
   "source": [
    "tx.image_shape"
   ]
  },
  {
   "cell_type": "code",
   "execution_count": 35,
   "metadata": {},
   "outputs": [
    {
     "name": "stdout",
     "output_type": "stream",
     "text": [
      "Epoch 1/50\n",
      "5/5 [==============================] - 39s 6s/step - loss: 25.4816 - accuracy: 0.5000 - val_loss: 2.3526 - val_accuracy: 0.5000\n",
      "Epoch 2/50\n",
      "5/5 [==============================] - 15s 3s/step - loss: 2.3172 - accuracy: 0.6000 - val_loss: 1.5192 - val_accuracy: 0.4000\n",
      "Epoch 3/50\n",
      "5/5 [==============================] - 15s 3s/step - loss: 1.9505 - accuracy: 0.4000 - val_loss: 0.6877 - val_accuracy: 0.5500\n",
      "Epoch 4/50\n",
      "5/5 [==============================] - 14s 3s/step - loss: 0.6364 - accuracy: 0.7000 - val_loss: 0.6916 - val_accuracy: 0.5000\n",
      "Epoch 5/50\n",
      "5/5 [==============================] - 14s 3s/step - loss: 0.7821 - accuracy: 0.5000 - val_loss: 0.6932 - val_accuracy: 0.4500\n",
      "Epoch 6/50\n",
      "5/5 [==============================] - 13s 3s/step - loss: 0.7132 - accuracy: 0.5000 - val_loss: 0.6936 - val_accuracy: 0.4000\n",
      "Epoch 7/50\n",
      "5/5 [==============================] - 14s 3s/step - loss: 0.6996 - accuracy: 0.5000 - val_loss: 0.6930 - val_accuracy: 0.5250\n",
      "Epoch 8/50\n",
      "5/5 [==============================] - 14s 3s/step - loss: 0.6952 - accuracy: 0.4000 - val_loss: 0.6894 - val_accuracy: 0.8250\n",
      "Epoch 9/50\n",
      "5/5 [==============================] - 14s 3s/step - loss: 0.7212 - accuracy: 0.4000 - val_loss: 0.6897 - val_accuracy: 0.7500\n",
      "Epoch 10/50\n",
      "5/5 [==============================] - 14s 3s/step - loss: 0.6919 - accuracy: 0.5000 - val_loss: 0.6920 - val_accuracy: 0.6000\n",
      "Epoch 11/50\n",
      "5/5 [==============================] - 15s 3s/step - loss: 0.6887 - accuracy: 0.8000 - val_loss: 0.6933 - val_accuracy: 0.4500\n",
      "Epoch 12/50\n",
      "5/5 [==============================] - 15s 3s/step - loss: 0.6899 - accuracy: 0.6000 - val_loss: 0.6921 - val_accuracy: 0.4750\n",
      "Epoch 13/50\n",
      "5/5 [==============================] - 14s 3s/step - loss: 0.6925 - accuracy: 0.5000 - val_loss: 0.6919 - val_accuracy: 0.5750\n",
      "Epoch 14/50\n",
      "5/5 [==============================] - 13s 3s/step - loss: 0.6861 - accuracy: 0.7000 - val_loss: 0.6917 - val_accuracy: 0.5250\n",
      "Epoch 15/50\n",
      "5/5 [==============================] - 13s 3s/step - loss: 0.6946 - accuracy: 0.4000 - val_loss: 0.6828 - val_accuracy: 0.8000\n",
      "Epoch 16/50\n",
      "5/5 [==============================] - 13s 3s/step - loss: 0.6780 - accuracy: 0.7000 - val_loss: 0.6411 - val_accuracy: 0.5250\n",
      "Epoch 17/50\n",
      "5/5 [==============================] - 12s 3s/step - loss: 0.6306 - accuracy: 0.5000 - val_loss: 0.6751 - val_accuracy: 0.6750\n",
      "Epoch 18/50\n",
      "5/5 [==============================] - 12s 3s/step - loss: 0.6677 - accuracy: 0.5000 - val_loss: 0.6323 - val_accuracy: 0.5750\n",
      "Epoch 19/50\n",
      "5/5 [==============================] - 13s 3s/step - loss: 0.6314 - accuracy: 0.6000 - val_loss: 0.6390 - val_accuracy: 0.9250\n",
      "Epoch 20/50\n",
      "5/5 [==============================] - 12s 3s/step - loss: 0.5587 - accuracy: 0.7000 - val_loss: 0.6182 - val_accuracy: 0.5750\n",
      "Epoch 21/50\n",
      "5/5 [==============================] - 12s 3s/step - loss: 0.7352 - accuracy: 0.3000 - val_loss: 0.6094 - val_accuracy: 0.7500\n",
      "Epoch 22/50\n",
      "5/5 [==============================] - 12s 3s/step - loss: 0.5647 - accuracy: 0.8000 - val_loss: 0.6443 - val_accuracy: 0.6750\n",
      "Epoch 23/50\n",
      "5/5 [==============================] - 12s 3s/step - loss: 0.6679 - accuracy: 0.6000 - val_loss: 0.5953 - val_accuracy: 0.9000\n",
      "Epoch 24/50\n",
      "5/5 [==============================] - 12s 3s/step - loss: 0.4586 - accuracy: 0.7000 - val_loss: 0.7514 - val_accuracy: 0.5500\n",
      "Epoch 25/50\n",
      "5/5 [==============================] - 12s 3s/step - loss: 1.0412 - accuracy: 0.6000 - val_loss: 0.6280 - val_accuracy: 0.7000\n",
      "Epoch 26/50\n",
      "5/5 [==============================] - 12s 3s/step - loss: 0.5816 - accuracy: 1.0000 - val_loss: 0.6743 - val_accuracy: 0.7250\n",
      "Epoch 27/50\n",
      "5/5 [==============================] - 12s 3s/step - loss: 0.6671 - accuracy: 0.7000 - val_loss: 0.6867 - val_accuracy: 0.6000\n",
      "Epoch 28/50\n",
      "5/5 [==============================] - 12s 3s/step - loss: 0.6622 - accuracy: 0.8000 - val_loss: 0.6762 - val_accuracy: 0.7000\n",
      "Epoch 29/50\n",
      "5/5 [==============================] - 12s 3s/step - loss: 0.6153 - accuracy: 0.9000 - val_loss: 0.6639 - val_accuracy: 0.7500\n",
      "Epoch 30/50\n",
      "5/5 [==============================] - 13s 3s/step - loss: 0.6698 - accuracy: 0.6000 - val_loss: 0.6017 - val_accuracy: 0.8250\n",
      "Epoch 31/50\n",
      "5/5 [==============================] - 12s 3s/step - loss: 0.6577 - accuracy: 0.8000 - val_loss: 0.6220 - val_accuracy: 0.7750\n",
      "Epoch 32/50\n",
      "5/5 [==============================] - 12s 3s/step - loss: 0.5547 - accuracy: 0.8000 - val_loss: 0.5696 - val_accuracy: 0.7500\n",
      "Epoch 33/50\n",
      "5/5 [==============================] - 13s 3s/step - loss: 0.5197 - accuracy: 0.7000 - val_loss: 0.4657 - val_accuracy: 0.7500\n",
      "Epoch 34/50\n",
      "5/5 [==============================] - 12s 3s/step - loss: 0.3675 - accuracy: 0.8000 - val_loss: 0.5544 - val_accuracy: 0.7250\n",
      "Epoch 35/50\n",
      "5/5 [==============================] - 13s 3s/step - loss: 0.3846 - accuracy: 0.8000 - val_loss: 0.5729 - val_accuracy: 0.7250\n",
      "Epoch 36/50\n",
      "5/5 [==============================] - 12s 3s/step - loss: 0.5822 - accuracy: 0.8000 - val_loss: 0.3705 - val_accuracy: 0.8750\n",
      "Epoch 37/50\n",
      "5/5 [==============================] - 12s 3s/step - loss: 0.3853 - accuracy: 0.8000 - val_loss: 0.4667 - val_accuracy: 0.8500\n",
      "Epoch 38/50\n",
      "5/5 [==============================] - 12s 3s/step - loss: 0.1821 - accuracy: 0.9000 - val_loss: 0.3838 - val_accuracy: 0.8250\n",
      "Epoch 39/50\n",
      "5/5 [==============================] - 13s 3s/step - loss: 0.3739 - accuracy: 0.6000 - val_loss: 0.3973 - val_accuracy: 0.8250\n",
      "Epoch 40/50\n",
      "5/5 [==============================] - 13s 3s/step - loss: 0.1122 - accuracy: 1.0000 - val_loss: 0.4298 - val_accuracy: 0.8500\n",
      "Epoch 41/50\n",
      "5/5 [==============================] - 13s 3s/step - loss: 0.5619 - accuracy: 0.8000 - val_loss: 0.1887 - val_accuracy: 0.9500\n",
      "Epoch 42/50\n",
      "5/5 [==============================] - 12s 3s/step - loss: 0.1486 - accuracy: 0.9000 - val_loss: 0.2170 - val_accuracy: 0.9250\n",
      "Epoch 43/50\n",
      "5/5 [==============================] - 12s 3s/step - loss: 0.3406 - accuracy: 0.7000 - val_loss: 0.1490 - val_accuracy: 0.9500\n",
      "Epoch 44/50\n",
      "5/5 [==============================] - 12s 3s/step - loss: 0.1971 - accuracy: 0.9000 - val_loss: 0.1767 - val_accuracy: 0.9250\n",
      "Epoch 45/50\n",
      "5/5 [==============================] - 12s 3s/step - loss: 0.4591 - accuracy: 0.9000 - val_loss: 0.1922 - val_accuracy: 0.9500\n",
      "Epoch 46/50\n",
      "5/5 [==============================] - 12s 3s/step - loss: 0.2095 - accuracy: 0.9000 - val_loss: 0.1341 - val_accuracy: 0.9750\n",
      "Epoch 47/50\n",
      "5/5 [==============================] - 13s 3s/step - loss: 0.3197 - accuracy: 0.9000 - val_loss: 0.1160 - val_accuracy: 0.9750\n",
      "Epoch 48/50\n",
      "5/5 [==============================] - 12s 3s/step - loss: 0.4272 - accuracy: 0.8000 - val_loss: 0.1860 - val_accuracy: 0.9750\n",
      "Epoch 49/50\n",
      "5/5 [==============================] - 14s 3s/step - loss: 0.1085 - accuracy: 1.0000 - val_loss: 0.3310 - val_accuracy: 0.8750\n",
      "Epoch 50/50\n",
      "5/5 [==============================] - 12s 3s/step - loss: 0.3900 - accuracy: 0.7000 - val_loss: 0.2296 - val_accuracy: 0.9500\n"
     ]
    }
   ],
   "source": [
    "history = classifier.fit(tr,\n",
    "                        steps_per_epoch = 5,\n",
    "                        epochs = 50,\n",
    "                        validation_data = tx,\n",
    "                        validation_steps = 20)"
   ]
  },
  {
   "cell_type": "code",
   "execution_count": 37,
   "metadata": {},
   "outputs": [
    {
     "data": {
      "text/plain": [
       "[<matplotlib.lines.Line2D at 0x1ee821805e0>]"
      ]
     },
     "execution_count": 37,
     "metadata": {},
     "output_type": "execute_result"
    },
    {
     "data": {
      "image/png": "[encoded data removed]",
      "text/plain": [
       "<Figure size 432x288 with 1 Axes>"
      ]
     },
     "metadata": {
      "needs_background": "light"
     },
     "output_type": "display_data"
    }
   ],
   "source": [
    "plt.plot(history.history['loss'])"
   ]
  },
  {
   "cell_type": "code",
   "execution_count": 36,
   "metadata": {},
   "outputs": [
    {
     "data": {
      "text/plain": [
       "[<matplotlib.lines.Line2D at 0x1ee820d0b50>]"
      ]
     },
     "execution_count": 36,
     "metadata": {},
     "output_type": "execute_result"
    },
    {
     "data": {
      "image/png": "[encoded data removed]",
      "text/plain": [
       "<Figure size 432x288 with 1 Axes>"
      ]
     },
     "metadata": {
      "needs_background": "light"
     },
     "output_type": "display_data"
    }
   ],
   "source": [
    "plt.plot(history.history['accuracy'])"
   ]
  },
  {
   "cell_type": "code",
   "execution_count": 38,
   "metadata": {},
   "outputs": [
    {
     "name": "stdout",
     "output_type": "stream",
     "text": [
      "60/60 [==============================] - 17s 268ms/step - loss: 0.2726 - accuracy: 0.9083\n"
     ]
    },
    {
     "data": {
      "text/plain": [
       "[0.2726457417011261, 0.9083333611488342]"
      ]
     },
     "execution_count": 38,
     "metadata": {},
     "output_type": "execute_result"
    }
   ],
   "source": [
    "classifier.evaluate(tx)"
   ]
  },
  {
   "cell_type": "code",
   "execution_count": 39,
   "metadata": {},
   "outputs": [
    {
     "name": "stderr",
     "output_type": "stream",
     "text": [
      "WARNING:absl:Found untraced functions such as _jit_compiled_convolution_op, _jit_compiled_convolution_op while saving (showing 2 of 2). These functions will not be directly callable after loading.\n"
     ]
    },
    {
     "name": "stdout",
     "output_type": "stream",
     "text": [
      "INFO:tensorflow:Assets written to: ram://e5f8bb66-4dcc-49a4-95ed-38df2a72ddb9/assets\n"
     ]
    },
    {
     "name": "stderr",
     "output_type": "stream",
     "text": [
      "INFO:tensorflow:Assets written to: ram://e5f8bb66-4dcc-49a4-95ed-38df2a72ddb9/assets\n"
     ]
    },
    {
     "data": {
      "text/plain": [
       "['hand_rec_ap.pkl']"
      ]
     },
     "execution_count": 39,
     "metadata": {},
     "output_type": "execute_result"
    }
   ],
   "source": [
    "model_dict = {\n",
    "    'title' : 'Handwritting Recognition Model',\n",
    "    'classifier' : classifier\n",
    "}\n",
    "\n",
    "dump(model_dict,\"hand_rec_ap.pkl\")"
   ]
  },
  {
   "cell_type": "code",
   "execution_count": null,
   "metadata": {},
   "outputs": [],
   "source": []
  }
 ],
 "metadata": {
  "kernelspec": {
   "display_name": "Python 3.9.12 ('base')",
   "language": "python",
   "name": "python3"
  },
  "language_info": {
   "codemirror_mode": {
    "name": "ipython",
    "version": 3
   },
   "file_extension": ".py",
   "mimetype": "text/x-python",
   "name": "python",
   "nbconvert_exporter": "python",
   "pygments_lexer": "ipython3",
   "version": "3.9.12"
  },
  "orig_nbformat": 4,
  "vscode": {
   "interpreter": {
    "hash": "8c46ac5aaab4d3c9f2f9be91c3b9b95f2b8ede1f4aae554ca1e34eefcba1468b"
   }
  }
 },
 "nbformat": 4,
 "nbformat_minor": 2
}
