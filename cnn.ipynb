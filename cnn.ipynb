{
 "cells": [
  {
   "cell_type": "markdown",
   "metadata": {},
   "source": [
    "# Importing libraries"
   ]
  },
  {
   "cell_type": "code",
   "execution_count": 1,
   "metadata": {},
   "outputs": [],
   "source": [
    "import os\n",
    "import matplotlib.pyplot as plt\n",
    "import numpy as np\n",
    "from PIL import Image"
   ]
  },
  {
   "cell_type": "code",
   "execution_count": 2,
   "metadata": {},
   "outputs": [],
   "source": [
    "from sklearn.preprocessing import StandardScaler\n",
    "from keras.models import Sequential # class of NN\n",
    "from keras.layers import Convolution2D # class for adding convulution\n",
    "from keras.layers import MaxPooling2D # pooling layer class\n",
    "from keras.layers import Flatten # flatten layer class\n",
    "from keras.layers import Dense, Dropout # other normal layers in NN\n",
    "import tensorflow as tf\n",
    "from keras.preprocessing.image import ImageDataGenerator\n",
    "from joblib import dump, load"
   ]
  },
  {
   "cell_type": "code",
   "execution_count": 3,
   "metadata": {},
   "outputs": [
    {
     "data": {
      "text/plain": [
       "['test_set', 'training_set']"
      ]
     },
     "execution_count": 3,
     "metadata": {},
     "output_type": "execute_result"
    }
   ],
   "source": [
    "os.listdir('datasets')"
   ]
  },
  {
   "cell_type": "markdown",
   "metadata": {},
   "source": [
    "### Initialising the CNN"
   ]
  },
  {
   "cell_type": "code",
   "execution_count": 4,
   "metadata": {},
   "outputs": [],
   "source": [
    "classifier = Sequential()\n",
    "\n",
    "classifier.add(Convolution2D(filters = 16,\n",
    "                            kernel_size = (5, 5),\n",
    "                            input_shape = (512, 512, 1),\n",
    "                            activation = 'relu'))\n",
    "\n",
    "classifier.add(MaxPooling2D(pool_size = (2, 2)))\n",
    "classifier.add(Dropout(.2))\n",
    "classifier.add(Convolution2D(filters = 32,\n",
    "                            kernel_size = (5, 5),\n",
    "                            activation = 'relu'))"
   ]
  },
  {
   "cell_type": "markdown",
   "metadata": {},
   "source": [
    "### Adding a second maxpooling layer"
   ]
  },
  {
   "cell_type": "code",
   "execution_count": 5,
   "metadata": {},
   "outputs": [],
   "source": [
    "classifier.add(MaxPooling2D(pool_size = (2, 2)))\n",
    "classifier.add(Dropout(.2))"
   ]
  },
  {
   "cell_type": "markdown",
   "metadata": {},
   "source": [
    "### Flattening"
   ]
  },
  {
   "cell_type": "code",
   "execution_count": 6,
   "metadata": {},
   "outputs": [],
   "source": [
    "classifier.add(Flatten())"
   ]
  },
  {
   "cell_type": "markdown",
   "metadata": {},
   "source": [
    "### Full connection"
   ]
  },
  {
   "cell_type": "code",
   "execution_count": 7,
   "metadata": {},
   "outputs": [],
   "source": [
    "classifier.add(Dense(units = 128, activation = 'relu'))\n",
    "classifier.add(Dense(units = 1, activation = 'sigmoid'))"
   ]
  },
  {
   "cell_type": "markdown",
   "metadata": {},
   "source": [
    "### Compiling the CNN"
   ]
  },
  {
   "cell_type": "code",
   "execution_count": 8,
   "metadata": {},
   "outputs": [],
   "source": [
    "classifier.compile(optimizer = 'adam',\n",
    "                    loss = 'binary_crossentropy',\n",
    "                    metrics = ['accuracy'])"
   ]
  },
  {
   "cell_type": "code",
   "execution_count": 9,
   "metadata": {},
   "outputs": [
    {
     "name": "stdout",
     "output_type": "stream",
     "text": [
      "Model: \"sequential\"\n",
      "_________________________________________________________________\n",
      " Layer (type)                Output Shape              Param #   \n",
      "=================================================================\n",
      " conv2d (Conv2D)             (None, 508, 508, 16)      416       \n",
      "                                                                 \n",
      " max_pooling2d (MaxPooling2D  (None, 254, 254, 16)     0         \n",
      " )                                                               \n",
      "                                                                 \n",
      " dropout (Dropout)           (None, 254, 254, 16)      0         \n",
      "                                                                 \n",
      " conv2d_1 (Conv2D)           (None, 250, 250, 32)      12832     \n",
      "                                                                 \n",
      " max_pooling2d_1 (MaxPooling  (None, 125, 125, 32)     0         \n",
      " 2D)                                                             \n",
      "                                                                 \n",
      " dropout_1 (Dropout)         (None, 125, 125, 32)      0         \n",
      "                                                                 \n",
      " flatten (Flatten)           (None, 500000)            0         \n",
      "                                                                 \n",
      " dense (Dense)               (None, 128)               64000128  \n",
      "                                                                 \n",
      " dense_1 (Dense)             (None, 1)                 129       \n",
      "                                                                 \n",
      "=================================================================\n",
      "Total params: 64,013,505\n",
      "Trainable params: 64,013,505\n",
      "Non-trainable params: 0\n",
      "_________________________________________________________________\n"
     ]
    }
   ],
   "source": [
    "classifier.summary()"
   ]
  },
  {
   "cell_type": "code",
   "execution_count": 10,
   "metadata": {},
   "outputs": [],
   "source": [
    "def to_grayscale_then_rgb(image):\n",
    "    # image = tf.image.rgb_to_grayscale(image)\n",
    "    # image = tf.image.grayscale_to_rgb(image)\n",
    "    return image"
   ]
  },
  {
   "cell_type": "code",
   "execution_count": 11,
   "metadata": {},
   "outputs": [],
   "source": [
    "train_datagen = ImageDataGenerator(rescale = 1/255,\n",
    "                                    preprocessing_function = to_grayscale_then_rgb)\n",
    "\n",
    "test_datagen = ImageDataGenerator(rescale = 1/255, preprocessing_function = to_grayscale_then_rgb)"
   ]
  },
  {
   "cell_type": "code",
   "execution_count": 12,
   "metadata": {},
   "outputs": [
    {
     "name": "stdout",
     "output_type": "stream",
     "text": [
      "Found 200 images belonging to 2 classes.\n",
      "Found 120 images belonging to 2 classes.\n"
     ]
    }
   ],
   "source": [
    "tr = train_datagen.flow_from_directory(\n",
    "        'datasets/training_set',\n",
    "        target_size = (512, 512),\n",
    "        batch_size = 2,\n",
    "        class_mode = 'binary',\n",
    "        color_mode = 'grayscale')\n",
    "\n",
    "tx = test_datagen.flow_from_directory(\n",
    "        'datasets/test_set',\n",
    "        target_size = (512, 512),\n",
    "        batch_size = 2,\n",
    "        class_mode = 'binary',\n",
    "        color_mode = 'grayscale')"
   ]
  },
  {
   "cell_type": "code",
   "execution_count": 13,
   "metadata": {},
   "outputs": [
    {
     "data": {
      "text/plain": [
       "(512, 512, 1)"
      ]
     },
     "execution_count": 13,
     "metadata": {},
     "output_type": "execute_result"
    }
   ],
   "source": [
    "tr.image_shape"
   ]
  },
  {
   "cell_type": "code",
   "execution_count": 14,
   "metadata": {},
   "outputs": [
    {
     "data": {
      "text/plain": [
       "(512, 512, 1)"
      ]
     },
     "execution_count": 14,
     "metadata": {},
     "output_type": "execute_result"
    }
   ],
   "source": [
    "tx.image_shape"
   ]
  },
  {
   "cell_type": "code",
   "execution_count": 15,
   "metadata": {},
   "outputs": [
    {
     "name": "stdout",
     "output_type": "stream",
     "text": [
      "Epoch 1/50\n",
      "5/5 [==============================] - 40s 6s/step - loss: 149.6375 - accuracy: 0.6000 - val_loss: 21.6911 - val_accuracy: 0.4500\n",
      "Epoch 2/50\n",
      "5/5 [==============================] - 25s 6s/step - loss: 43.4036 - accuracy: 0.6000 - val_loss: 11.8488 - val_accuracy: 0.5750\n",
      "Epoch 3/50\n",
      "5/5 [==============================] - 28s 6s/step - loss: 13.9148 - accuracy: 0.5000 - val_loss: 0.6922 - val_accuracy: 0.5000\n",
      "Epoch 4/50\n",
      "5/5 [==============================] - 27s 6s/step - loss: 0.7444 - accuracy: 0.5000 - val_loss: 0.7002 - val_accuracy: 0.3750\n",
      "Epoch 5/50\n",
      "5/5 [==============================] - 27s 6s/step - loss: 0.7209 - accuracy: 0.6000 - val_loss: 0.6929 - val_accuracy: 0.5750\n",
      "Epoch 6/50\n",
      "5/5 [==============================] - 34s 8s/step - loss: 0.7003 - accuracy: 0.4000 - val_loss: 0.6929 - val_accuracy: 0.5500\n",
      "Epoch 7/50\n",
      "5/5 [==============================] - 54s 12s/step - loss: 0.6910 - accuracy: 0.8000 - val_loss: 0.6933 - val_accuracy: 0.4750\n",
      "Epoch 8/50\n",
      "5/5 [==============================] - 31s 7s/step - loss: 0.6944 - accuracy: 0.4000 - val_loss: 0.6931 - val_accuracy: 0.5000\n",
      "Epoch 9/50\n",
      "5/5 [==============================] - 37s 8s/step - loss: 0.6932 - accuracy: 0.5000 - val_loss: 0.6931 - val_accuracy: 0.5000\n",
      "Epoch 10/50\n",
      "5/5 [==============================] - 24s 5s/step - loss: 0.6934 - accuracy: 0.4000 - val_loss: 0.6931 - val_accuracy: 0.5250\n",
      "Epoch 11/50\n",
      "5/5 [==============================] - 26s 6s/step - loss: 0.6934 - accuracy: 0.5000 - val_loss: 0.6931 - val_accuracy: 0.6000\n",
      "Epoch 12/50\n",
      "5/5 [==============================] - 25s 5s/step - loss: 0.6939 - accuracy: 0.4000 - val_loss: 0.6933 - val_accuracy: 0.3750\n",
      "Epoch 13/50\n",
      "5/5 [==============================] - 25s 5s/step - loss: 0.6929 - accuracy: 0.6000 - val_loss: 0.6931 - val_accuracy: 0.5000\n",
      "Epoch 14/50\n",
      "5/5 [==============================] - 22s 5s/step - loss: 0.6937 - accuracy: 0.4000 - val_loss: 0.6927 - val_accuracy: 0.5750\n",
      "Epoch 15/50\n",
      "5/5 [==============================] - 23s 5s/step - loss: 0.6930 - accuracy: 0.5000 - val_loss: 0.6934 - val_accuracy: 0.4750\n",
      "Epoch 16/50\n",
      "5/5 [==============================] - 21s 5s/step - loss: 0.6923 - accuracy: 0.6000 - val_loss: 0.6929 - val_accuracy: 0.5250\n",
      "Epoch 17/50\n",
      "5/5 [==============================] - 20s 4s/step - loss: 0.6941 - accuracy: 0.4000 - val_loss: 0.6935 - val_accuracy: 0.4750\n",
      "Epoch 18/50\n",
      "5/5 [==============================] - 21s 5s/step - loss: 0.6932 - accuracy: 0.5000 - val_loss: 0.6928 - val_accuracy: 0.5250\n",
      "Epoch 19/50\n",
      "5/5 [==============================] - 24s 5s/step - loss: 0.6920 - accuracy: 0.6000 - val_loss: 0.6943 - val_accuracy: 0.4250\n",
      "Epoch 20/50\n",
      "5/5 [==============================] - 20s 4s/step - loss: 0.6931 - accuracy: 0.5000 - val_loss: 0.6940 - val_accuracy: 0.4500\n",
      "Epoch 21/50\n",
      "5/5 [==============================] - 20s 4s/step - loss: 0.6935 - accuracy: 0.5000 - val_loss: 0.6918 - val_accuracy: 0.5750\n",
      "Epoch 22/50\n",
      "5/5 [==============================] - 27s 6s/step - loss: 0.6932 - accuracy: 0.5000 - val_loss: 0.6941 - val_accuracy: 0.4500\n",
      "Epoch 23/50\n",
      "5/5 [==============================] - 21s 5s/step - loss: 0.6877 - accuracy: 0.8000 - val_loss: 0.6963 - val_accuracy: 0.3500\n",
      "Epoch 24/50\n",
      "5/5 [==============================] - 30s 6s/step - loss: 0.7015 - accuracy: 0.1000 - val_loss: 0.6937 - val_accuracy: 0.4750\n",
      "Epoch 25/50\n",
      "5/5 [==============================] - 30s 7s/step - loss: 0.6952 - accuracy: 0.4000 - val_loss: 0.6920 - val_accuracy: 0.5750\n",
      "Epoch 26/50\n",
      "5/5 [==============================] - 29s 6s/step - loss: 0.6921 - accuracy: 0.6000 - val_loss: 0.6925 - val_accuracy: 0.5500\n",
      "Epoch 27/50\n",
      "5/5 [==============================] - 29s 6s/step - loss: 0.6930 - accuracy: 0.5000 - val_loss: 0.6925 - val_accuracy: 0.5500\n",
      "Epoch 28/50\n",
      "5/5 [==============================] - 29s 6s/step - loss: 0.6942 - accuracy: 0.4000 - val_loss: 0.6940 - val_accuracy: 0.4250\n",
      "Epoch 29/50\n",
      "5/5 [==============================] - 29s 6s/step - loss: 0.6951 - accuracy: 0.3000 - val_loss: 0.6932 - val_accuracy: 0.5000\n",
      "Epoch 30/50\n",
      "5/5 [==============================] - 28s 6s/step - loss: 0.6946 - accuracy: 0.3000 - val_loss: 0.6931 - val_accuracy: 0.5000\n",
      "Epoch 31/50\n",
      "5/5 [==============================] - 29s 6s/step - loss: 0.6931 - accuracy: 0.6000 - val_loss: 0.6932 - val_accuracy: 0.4750\n",
      "Epoch 32/50\n",
      "5/5 [==============================] - 29s 6s/step - loss: 0.6935 - accuracy: 0.3000 - val_loss: 0.6931 - val_accuracy: 0.5500\n",
      "Epoch 33/50\n",
      "5/5 [==============================] - 32s 7s/step - loss: 0.6936 - accuracy: 0.5000 - val_loss: 0.6931 - val_accuracy: 0.5000\n",
      "Epoch 34/50\n",
      "5/5 [==============================] - 30s 7s/step - loss: 0.6929 - accuracy: 0.5000 - val_loss: 0.6931 - val_accuracy: 0.5250\n",
      "Epoch 35/50\n",
      "5/5 [==============================] - 31s 7s/step - loss: 0.6913 - accuracy: 0.7000 - val_loss: 0.6933 - val_accuracy: 0.4750\n",
      "Epoch 36/50\n",
      "5/5 [==============================] - 30s 6s/step - loss: 0.6957 - accuracy: 0.3000 - val_loss: 0.6936 - val_accuracy: 0.4250\n",
      "Epoch 37/50\n",
      "5/5 [==============================] - 23s 5s/step - loss: 0.6961 - accuracy: 0.3000 - val_loss: 0.6930 - val_accuracy: 0.5250\n",
      "Epoch 38/50\n",
      "5/5 [==============================] - 19s 4s/step - loss: 0.6943 - accuracy: 0.3000 - val_loss: 0.6931 - val_accuracy: 0.6000\n",
      "Epoch 39/50\n",
      "5/5 [==============================] - 19s 4s/step - loss: 0.6931 - accuracy: 0.6000 - val_loss: 0.6931 - val_accuracy: 0.5250\n",
      "Epoch 40/50\n",
      "5/5 [==============================] - 19s 4s/step - loss: 0.6929 - accuracy: 0.8000 - val_loss: 0.6932 - val_accuracy: 0.4750\n",
      "Epoch 41/50\n",
      "5/5 [==============================] - 19s 4s/step - loss: 0.6936 - accuracy: 0.4000 - val_loss: 0.6933 - val_accuracy: 0.4750\n",
      "Epoch 42/50\n",
      "5/5 [==============================] - 20s 4s/step - loss: 0.6936 - accuracy: 0.4000 - val_loss: 0.6930 - val_accuracy: 0.5250\n",
      "Epoch 43/50\n",
      "5/5 [==============================] - 26s 6s/step - loss: 0.6942 - accuracy: 0.2000 - val_loss: 0.6931 - val_accuracy: 0.5250\n",
      "Epoch 44/50\n",
      "5/5 [==============================] - 29s 6s/step - loss: 0.6929 - accuracy: 0.6000 - val_loss: 0.6930 - val_accuracy: 0.5750\n",
      "Epoch 45/50\n",
      "5/5 [==============================] - 29s 6s/step - loss: 0.6939 - accuracy: 0.3000 - val_loss: 0.6934 - val_accuracy: 0.4500\n",
      "Epoch 46/50\n",
      "5/5 [==============================] - 30s 7s/step - loss: 0.6941 - accuracy: 0.2000 - val_loss: 0.6931 - val_accuracy: 0.5250\n",
      "Epoch 47/50\n",
      "5/5 [==============================] - 29s 6s/step - loss: 0.6931 - accuracy: 0.7000 - val_loss: 0.6928 - val_accuracy: 0.6250\n",
      "Epoch 48/50\n",
      "5/5 [==============================] - 31s 7s/step - loss: 0.6935 - accuracy: 0.5000 - val_loss: 0.6922 - val_accuracy: 0.6250\n",
      "Epoch 49/50\n",
      "5/5 [==============================] - 31s 7s/step - loss: 0.6924 - accuracy: 0.6000 - val_loss: 0.6939 - val_accuracy: 0.4250\n",
      "Epoch 50/50\n",
      "5/5 [==============================] - 29s 7s/step - loss: 0.6931 - accuracy: 0.5000 - val_loss: 0.6938 - val_accuracy: 0.4500\n"
     ]
    }
   ],
   "source": [
    "history = classifier.fit(tr,\n",
    "                        steps_per_epoch = 5,\n",
    "                        epochs = 50,\n",
    "                        validation_data = tx,\n",
    "                        validation_steps = 20)"
   ]
  },
  {
   "cell_type": "code",
   "execution_count": 16,
   "metadata": {},
   "outputs": [
    {
     "data": {
      "text/plain": [
       "[<matplotlib.lines.Line2D at 0x1f0020d5340>]"
      ]
     },
     "execution_count": 16,
     "metadata": {},
     "output_type": "execute_result"
    },
    {
     "data": {
      "image/png": "[encoded data removed]",
      "text/plain": [
       "<Figure size 432x288 with 1 Axes>"
      ]
     },
     "metadata": {
      "needs_background": "light"
     },
     "output_type": "display_data"
    }
   ],
   "source": [
    "plt.plot(history.history['loss'])"
   ]
  },
  {
   "cell_type": "code",
   "execution_count": 17,
   "metadata": {},
   "outputs": [
    {
     "data": {
      "text/plain": [
       "[<matplotlib.lines.Line2D at 0x1f00217beb0>]"
      ]
     },
     "execution_count": 17,
     "metadata": {},
     "output_type": "execute_result"
    },
    {
     "data": {
      "image/png": "[encoded data removed]",
      "text/plain": [
       "<Figure size 432x288 with 1 Axes>"
      ]
     },
     "metadata": {
      "needs_background": "light"
     },
     "output_type": "display_data"
    }
   ],
   "source": [
    "plt.plot(history.history['accuracy'])"
   ]
  },
  {
   "cell_type": "code",
   "execution_count": 18,
   "metadata": {},
   "outputs": [
    {
     "name": "stdout",
     "output_type": "stream",
     "text": [
      "60/60 [==============================] - 55s 909ms/step - loss: 0.6932 - accuracy: 0.5000\n"
     ]
    },
    {
     "data": {
      "text/plain": [
       "[0.6931647658348083, 0.5]"
      ]
     },
     "execution_count": 18,
     "metadata": {},
     "output_type": "execute_result"
    }
   ],
   "source": [
    "classifier.evaluate(tx)"
   ]
  },
  {
   "cell_type": "code",
   "execution_count": 19,
   "metadata": {},
   "outputs": [
    {
     "name": "stderr",
     "output_type": "stream",
     "text": [
      "WARNING:absl:Found untraced functions such as _jit_compiled_convolution_op, _jit_compiled_convolution_op while saving (showing 2 of 2). These functions will not be directly callable after loading.\n"
     ]
    },
    {
     "name": "stdout",
     "output_type": "stream",
     "text": [
      "INFO:tensorflow:Assets written to: ram://86bc9b24-d765-484e-bb02-aae6bb63acb5/assets\n"
     ]
    },
    {
     "name": "stderr",
     "output_type": "stream",
     "text": [
      "INFO:tensorflow:Assets written to: ram://86bc9b24-d765-484e-bb02-aae6bb63acb5/assets\n"
     ]
    },
    {
     "data": {
      "text/plain": [
       "['hand_rec_ap.pkl']"
      ]
     },
     "execution_count": 19,
     "metadata": {},
     "output_type": "execute_result"
    }
   ],
   "source": [
    "model_dict = {\n",
    "    'title' : 'Handwritting Recognition Model',\n",
    "    'classifier' : classifier\n",
    "}\n",
    "\n",
    "dump(model_dict,\"hand_rec_ap.pkl\")"
   ]
  },
  {
   "cell_type": "code",
   "execution_count": 20,
   "metadata": {},
   "outputs": [],
   "source": [
    "def load_model():\n",
    "    filepath = 'hand_rec_ap.pkl'\n",
    "    return load(filepath)"
   ]
  },
  {
   "cell_type": "code",
   "execution_count": 21,
   "metadata": {},
   "outputs": [],
   "source": [
    "classifier.save('classifier.h5')"
   ]
  },
  {
   "cell_type": "code",
   "execution_count": 22,
   "metadata": {},
   "outputs": [],
   "source": [
    "classifier = tf.keras.models.load_model('classifier.h5')"
   ]
  },
  {
   "cell_type": "code",
   "execution_count": 23,
   "metadata": {},
   "outputs": [
    {
     "data": {
      "text/plain": [
       "(1, 512, 512, 1)"
      ]
     },
     "execution_count": 23,
     "metadata": {},
     "output_type": "execute_result"
    }
   ],
   "source": [
    "img = tf.keras.utils.load_img(f'D:\\Projects\\handwritting_recognition_using_cnn\\datasets/test_set/Akash/01.jpg',color_mode='grayscale',target_size=(512,512,1))\n",
    "xinp = tf.keras.utils.img_to_array(img)\n",
    "np.array([xinp]).shape"
   ]
  },
  {
   "cell_type": "code",
   "execution_count": 24,
   "metadata": {},
   "outputs": [
    {
     "name": "stdout",
     "output_type": "stream",
     "text": [
      "1/1 [==============================] - 4s 4s/step\n",
      "[0.49701586]\n"
     ]
    }
   ],
   "source": [
    "img = tf.keras.utils.load_img(f'D:\\Projects\\handwritting_recognition_using_cnn\\datasets/test_set/Anmol/01.jpg',color_mode='grayscale',target_size=(512,512,1))\n",
    "xinp = tf.keras.utils.img_to_array(img)\n",
    "pred = classifier.predict(np.array([xinp]))[0]\n",
    "print(pred)"
   ]
  },
  {
   "cell_type": "code",
   "execution_count": 25,
   "metadata": {},
   "outputs": [
    {
     "name": "stdout",
     "output_type": "stream",
     "text": [
      "first person\n"
     ]
    }
   ],
   "source": [
    "if pred < .5:\n",
    "    print('first person')\n",
    "else:\n",
    "    print('second person')"
   ]
  },
  {
   "cell_type": "code",
   "execution_count": 27,
   "metadata": {},
   "outputs": [
    {
     "name": "stdout",
     "output_type": "stream",
     "text": [
      "60/60 [==============================] - 41s 673ms/step\n"
     ]
    },
    {
     "data": {
      "text/plain": [
       "array([[0.49701586],\n",
       "       [0.49701586],\n",
       "       [0.49701586],\n",
       "       [0.49701586],\n",
       "       [0.49701586],\n",
       "       [0.49701586],\n",
       "       [0.49701586],\n",
       "       [0.49701586],\n",
       "       [0.49701586],\n",
       "       [0.49701586],\n",
       "       [0.49701586],\n",
       "       [0.49701586],\n",
       "       [0.49701586],\n",
       "       [0.49701586],\n",
       "       [0.49701586],\n",
       "       [0.49701586],\n",
       "       [0.49701586],\n",
       "       [0.49701586],\n",
       "       [0.49701586],\n",
       "       [0.49701586],\n",
       "       [0.49701586],\n",
       "       [0.49701586],\n",
       "       [0.49701586],\n",
       "       [0.49701586],\n",
       "       [0.49701586],\n",
       "       [0.49701586],\n",
       "       [0.49701586],\n",
       "       [0.49701586],\n",
       "       [0.49701586],\n",
       "       [0.49701586],\n",
       "       [0.49701586],\n",
       "       [0.49701586],\n",
       "       [0.49701586],\n",
       "       [0.49701586],\n",
       "       [0.49701586],\n",
       "       [0.49701586],\n",
       "       [0.49701586],\n",
       "       [0.49701586],\n",
       "       [0.49701586],\n",
       "       [0.49701586],\n",
       "       [0.49701586],\n",
       "       [0.49701586],\n",
       "       [0.49701586],\n",
       "       [0.49701586],\n",
       "       [0.49701586],\n",
       "       [0.49701586],\n",
       "       [0.49701586],\n",
       "       [0.49701586],\n",
       "       [0.49701586],\n",
       "       [0.49701586],\n",
       "       [0.49701586],\n",
       "       [0.49701586],\n",
       "       [0.49701586],\n",
       "       [0.49701586],\n",
       "       [0.49701586],\n",
       "       [0.49701586],\n",
       "       [0.49701586],\n",
       "       [0.49701586],\n",
       "       [0.49701586],\n",
       "       [0.49701586],\n",
       "       [0.49701586],\n",
       "       [0.49701586],\n",
       "       [0.49701586],\n",
       "       [0.49701586],\n",
       "       [0.49701586],\n",
       "       [0.49701586],\n",
       "       [0.49701586],\n",
       "       [0.49701586],\n",
       "       [0.49701586],\n",
       "       [0.49701586],\n",
       "       [0.49701586],\n",
       "       [0.49701586],\n",
       "       [0.49701586],\n",
       "       [0.49701586],\n",
       "       [0.49701586],\n",
       "       [0.49701586],\n",
       "       [0.49701586],\n",
       "       [0.49701586],\n",
       "       [0.49701586],\n",
       "       [0.49701586],\n",
       "       [0.49701586],\n",
       "       [0.49701586],\n",
       "       [0.49701586],\n",
       "       [0.49701586],\n",
       "       [0.49701586],\n",
       "       [0.49701586],\n",
       "       [0.49701586],\n",
       "       [0.49701586],\n",
       "       [0.49701586],\n",
       "       [0.49701586],\n",
       "       [0.49701586],\n",
       "       [0.49701586],\n",
       "       [0.49701586],\n",
       "       [0.49701586],\n",
       "       [0.49701586],\n",
       "       [0.49701586],\n",
       "       [0.49701586],\n",
       "       [0.49701586],\n",
       "       [0.49701586],\n",
       "       [0.49701586],\n",
       "       [0.49701586],\n",
       "       [0.49701586],\n",
       "       [0.49701586],\n",
       "       [0.49701586],\n",
       "       [0.49701586],\n",
       "       [0.49701586],\n",
       "       [0.49701586],\n",
       "       [0.49701586],\n",
       "       [0.49701586],\n",
       "       [0.49701586],\n",
       "       [0.49701586],\n",
       "       [0.49701586],\n",
       "       [0.49701586],\n",
       "       [0.49701586],\n",
       "       [0.49701586],\n",
       "       [0.49701586],\n",
       "       [0.49701586],\n",
       "       [0.49701586],\n",
       "       [0.49701586],\n",
       "       [0.49701586]], dtype=float32)"
      ]
     },
     "execution_count": 27,
     "metadata": {},
     "output_type": "execute_result"
    }
   ],
   "source": [
    "classifier.predict(tx)"
   ]
  },
  {
   "cell_type": "code",
   "execution_count": null,
   "metadata": {},
   "outputs": [
    {
     "name": "stdout",
     "output_type": "stream",
     "text": [
      "1/1 [==============================] - 1s 1s/step\n",
      "[1.9216622e-30]\n",
      "first person\n",
      "1/1 [==============================] - 1s 1s/step\n",
      "[0.]\n",
      "first person\n",
      "1/1 [==============================] - 1s 885ms/step\n",
      "[0.]\n",
      "first person\n",
      "1/1 [==============================] - 1s 928ms/step\n",
      "[0.]\n",
      "first person\n",
      "1/1 [==============================] - 1s 693ms/step\n",
      "[0.]\n",
      "first person\n",
      "1/1 [==============================] - 1s 692ms/step\n",
      "[0.]\n",
      "first person\n",
      "1/1 [==============================] - 1s 595ms/step\n",
      "[0.]\n",
      "first person\n",
      "1/1 [==============================] - 1s 642ms/step\n",
      "[0.]\n",
      "first person\n",
      "1/1 [==============================] - 1s 615ms/step\n",
      "[0.]\n",
      "first person\n",
      "1/1 [==============================] - 1s 1s/step\n",
      "[0.]\n",
      "first person\n",
      "1/1 [==============================] - 1s 736ms/step\n",
      "[0.]\n",
      "first person\n",
      "1/1 [==============================] - 1s 763ms/step\n",
      "[4.110564e-20]\n",
      "first person\n",
      "1/1 [==============================] - 1s 822ms/step\n",
      "[0.]\n",
      "first person\n",
      "1/1 [==============================] - 1s 972ms/step\n",
      "[0.]\n",
      "first person\n",
      "1/1 [==============================] - 2s 2s/step\n",
      "[0.]\n",
      "first person\n",
      "1/1 [==============================] - 1s 1s/step\n",
      "[0.]\n",
      "first person\n",
      "1/1 [==============================] - 1s 1s/step\n",
      "[2.5081144e-18]\n",
      "first person\n",
      "1/1 [==============================] - 1s 779ms/step\n",
      "[0.]\n",
      "first person\n",
      "1/1 [==============================] - 1s 595ms/step\n",
      "[2.6650945e-12]\n",
      "first person\n",
      "1/1 [==============================] - 1s 709ms/step\n",
      "[0.]\n",
      "first person\n",
      "1/1 [==============================] - 1s 925ms/step\n",
      "[0.9999666]\n",
      "second person\n",
      "1/1 [==============================] - 1s 928ms/step\n",
      "[0.]\n",
      "first person\n",
      "1/1 [==============================] - 1s 595ms/step\n",
      "[0.]\n",
      "first person\n",
      "1/1 [==============================] - 1s 545ms/step\n",
      "[0.]\n",
      "first person\n",
      "1/1 [==============================] - 1s 537ms/step\n",
      "[7.7479605e-08]\n",
      "first person\n",
      "1/1 [==============================] - 1s 548ms/step\n",
      "[0.]\n",
      "first person\n",
      "1/1 [==============================] - 1s 691ms/step\n",
      "[0.]\n",
      "first person\n",
      "1/1 [==============================] - 1s 760ms/step\n",
      "[1.6938499e-23]\n",
      "first person\n",
      "1/1 [==============================] - 1s 814ms/step\n",
      "[0.]\n",
      "first person\n",
      "1/1 [==============================] - 1s 762ms/step\n",
      "[0.]\n",
      "first person\n",
      "1/1 [==============================] - 1s 821ms/step\n",
      "[4.8101085e-17]\n",
      "first person\n",
      "1/1 [==============================] - 1s 629ms/step\n",
      "[0.]\n",
      "first person\n",
      "1/1 [==============================] - 1s 514ms/step\n",
      "[0.]\n",
      "first person\n",
      "1/1 [==============================] - 1s 567ms/step\n",
      "[6.08482e-12]\n",
      "first person\n",
      "1/1 [==============================] - 1s 533ms/step\n",
      "[0.]\n",
      "first person\n",
      "1/1 [==============================] - 1s 689ms/step\n",
      "[0.]\n",
      "first person\n",
      "1/1 [==============================] - 1s 629ms/step\n",
      "[1.9378835e-26]\n",
      "first person\n",
      "1/1 [==============================] - 1s 652ms/step\n",
      "[0.]\n",
      "first person\n",
      "1/1 [==============================] - 1s 572ms/step\n",
      "[0.]\n",
      "first person\n"
     ]
    }
   ],
   "source": [
    "ans = []\n",
    "for i in range(11,50):\n",
    "    img = tf.keras.utils.load_img(f'D:\\Projects\\handwritting_recognition_using_cnn\\datasets/training_set\\Akash\\{i}.jpg',color_mode='grayscale',target_size=(512,512,1))\n",
    "    xinp = tf.keras.utils.img_to_array(img)\n",
    "    pred = classifier.predict(np.array([xinp]))[0]\n",
    "    print(pred)\n",
    "\n",
    "    if pred < .5:\n",
    "        print('first person')\n",
    "        ans.append(0)\n",
    "    else:\n",
    "        print('second person')\n",
    "        ans.append(1)"
   ]
  },
  {
   "cell_type": "code",
   "execution_count": null,
   "metadata": {},
   "outputs": [
    {
     "name": "stdout",
     "output_type": "stream",
     "text": [
      "[0, 0, 0, 0, 0, 0, 0, 0, 0, 0, 0, 0, 0, 0, 0, 0, 0, 0, 0, 0, 1, 0, 0, 0, 0, 0, 0, 0, 0, 0, 0, 0, 0, 0, 0, 0, 0, 0, 0]\n"
     ]
    }
   ],
   "source": [
    "print(ans)"
   ]
  },
  {
   "cell_type": "code",
   "execution_count": null,
   "metadata": {},
   "outputs": [
    {
     "name": "stdout",
     "output_type": "stream",
     "text": [
      "1/1 [==============================] - 1s 1s/step\n",
      "[1.]\n",
      "second person\n",
      "1/1 [==============================] - 1s 902ms/step\n",
      "[0.]\n",
      "first person\n",
      "1/1 [==============================] - 1s 841ms/step\n",
      "[0.9999442]\n",
      "second person\n",
      "1/1 [==============================] - 1s 752ms/step\n",
      "[1.]\n",
      "second person\n",
      "1/1 [==============================] - 1s 611ms/step\n",
      "[0.0013564]\n",
      "first person\n",
      "1/1 [==============================] - 1s 614ms/step\n",
      "[4.028442e-06]\n",
      "first person\n",
      "1/1 [==============================] - 1s 560ms/step\n",
      "[0.]\n",
      "first person\n",
      "1/1 [==============================] - 1s 693ms/step\n",
      "[1.]\n",
      "second person\n",
      "1/1 [==============================] - 1s 760ms/step\n",
      "[0.35855067]\n",
      "first person\n",
      "1/1 [==============================] - 1s 967ms/step\n",
      "[6.073611e-11]\n",
      "first person\n",
      "1/1 [==============================] - 0s 498ms/step\n",
      "[1.]\n",
      "second person\n",
      "1/1 [==============================] - 0s 448ms/step\n",
      "[0.8312011]\n",
      "second person\n",
      "1/1 [==============================] - 0s 493ms/step\n",
      "[3.071763e-11]\n",
      "first person\n",
      "1/1 [==============================] - 0s 457ms/step\n",
      "[4.7244046e-16]\n",
      "first person\n",
      "1/1 [==============================] - 1s 524ms/step\n",
      "[0.9998787]\n",
      "second person\n",
      "1/1 [==============================] - 0s 500ms/step\n",
      "[0.00041674]\n",
      "first person\n",
      "1/1 [==============================] - 0s 445ms/step\n",
      "[0.9964339]\n",
      "second person\n",
      "1/1 [==============================] - 0s 475ms/step\n",
      "[0.9990903]\n",
      "second person\n",
      "1/1 [==============================] - 0s 482ms/step\n",
      "[0.5067045]\n",
      "second person\n",
      "1/1 [==============================] - 0s 469ms/step\n",
      "[0.00026434]\n",
      "first person\n",
      "1/1 [==============================] - 0s 457ms/step\n",
      "[9.477517e-05]\n",
      "first person\n",
      "1/1 [==============================] - 0s 483ms/step\n",
      "[0.14747861]\n",
      "first person\n",
      "1/1 [==============================] - 0s 450ms/step\n",
      "[9.4551484e-07]\n",
      "first person\n",
      "1/1 [==============================] - 0s 441ms/step\n",
      "[0.11067747]\n",
      "first person\n",
      "1/1 [==============================] - 0s 443ms/step\n",
      "[0.49841657]\n",
      "first person\n",
      "1/1 [==============================] - 0s 468ms/step\n",
      "[0.00011576]\n",
      "first person\n",
      "1/1 [==============================] - 0s 438ms/step\n",
      "[0.5067045]\n",
      "second person\n",
      "1/1 [==============================] - 0s 470ms/step\n",
      "[0.12964952]\n",
      "first person\n",
      "1/1 [==============================] - 0s 489ms/step\n",
      "[0.99999887]\n",
      "second person\n",
      "1/1 [==============================] - 0s 442ms/step\n",
      "[1.]\n",
      "second person\n",
      "1/1 [==============================] - 1s 587ms/step\n",
      "[0.5480195]\n",
      "second person\n",
      "1/1 [==============================] - 0s 485ms/step\n",
      "[2.3098612e-10]\n",
      "first person\n",
      "1/1 [==============================] - 1s 520ms/step\n",
      "[0.43258172]\n",
      "first person\n",
      "1/1 [==============================] - 1s 577ms/step\n",
      "[7.3454634e-16]\n",
      "first person\n",
      "1/1 [==============================] - 0s 492ms/step\n",
      "[1.952792e-26]\n",
      "first person\n",
      "1/1 [==============================] - 0s 475ms/step\n",
      "[1.107778e-22]\n",
      "first person\n",
      "1/1 [==============================] - 0s 469ms/step\n",
      "[0.901008]\n",
      "second person\n",
      "1/1 [==============================] - 0s 467ms/step\n",
      "[1.4112184e-05]\n",
      "first person\n",
      "1/1 [==============================] - 0s 497ms/step\n",
      "[2.5636144e-05]\n",
      "first person\n"
     ]
    }
   ],
   "source": [
    "ans = []\n",
    "for i in range(11,50):\n",
    "    img = tf.keras.utils.load_img(f'D:\\Projects\\handwritting_recognition_using_cnn\\datasets/training_set\\Anmol\\{i}.jpg',color_mode='grayscale',target_size=(512,512,1))\n",
    "    xinp = tf.keras.utils.img_to_array(img)\n",
    "    pred = classifier.predict(np.array([xinp]))[0]\n",
    "    print(pred)\n",
    "\n",
    "    if pred < .5:\n",
    "        print('first person')\n",
    "        ans.append(0)\n",
    "    else:\n",
    "        print('second person')\n",
    "        ans.append(1)"
   ]
  },
  {
   "cell_type": "code",
   "execution_count": null,
   "metadata": {},
   "outputs": [
    {
     "name": "stdout",
     "output_type": "stream",
     "text": [
      "[1, 0, 1, 1, 0, 0, 0, 1, 0, 0, 1, 1, 0, 0, 1, 0, 1, 1, 1, 0, 0, 0, 0, 0, 0, 0, 1, 0, 1, 1, 1, 0, 0, 0, 0, 0, 1, 0, 0]\n"
     ]
    }
   ],
   "source": [
    "print(ans)"
   ]
  },
  {
   "cell_type": "code",
   "execution_count": null,
   "metadata": {},
   "outputs": [],
   "source": []
  }
 ],
 "metadata": {
  "kernelspec": {
   "display_name": "Python 3.9.12 ('base')",
   "language": "python",
   "name": "python3"
  },
  "language_info": {
   "codemirror_mode": {
    "name": "ipython",
    "version": 3
   },
   "file_extension": ".py",
   "mimetype": "text/x-python",
   "name": "python",
   "nbconvert_exporter": "python",
   "pygments_lexer": "ipython3",
   "version": "3.9.12"
  },
  "orig_nbformat": 4,
  "vscode": {
   "interpreter": {
    "hash": "8c46ac5aaab4d3c9f2f9be91c3b9b95f2b8ede1f4aae554ca1e34eefcba1468b"
   }
  }
 },
 "nbformat": 4,
 "nbformat_minor": 2
}
