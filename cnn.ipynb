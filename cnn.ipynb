{
 "cells": [
  {
   "cell_type": "markdown",
   "metadata": {},
   "source": [
    "# Importing libraries"
   ]
  },
  {
   "cell_type": "code",
   "execution_count": 13,
   "metadata": {},
   "outputs": [],
   "source": [
    "import os\n",
    "import matplotlib.pyplot as plt\n",
    "import numpy as np\n",
    "from PIL import Image"
   ]
  },
  {
   "cell_type": "code",
   "execution_count": 14,
   "metadata": {},
   "outputs": [],
   "source": [
    "from sklearn.preprocessing import StandardScaler\n",
    "from keras.models import Sequential # class of NN\n",
    "from keras.layers import Convolution2D # class for adding convulution\n",
    "from keras.layers import MaxPooling2D # pooling layer class\n",
    "from keras.layers import Flatten # flatten layer class\n",
    "from keras.layers import Dense, Dropout # other normal layers in NN\n",
    "import tensorflow as tf\n",
    "from keras.preprocessing.image import ImageDataGenerator\n",
    "from joblib import dump, load"
   ]
  },
  {
   "cell_type": "code",
   "execution_count": 15,
   "metadata": {},
   "outputs": [
    {
     "data": {
      "text/plain": [
       "['test_set', 'training_set']"
      ]
     },
     "execution_count": 15,
     "metadata": {},
     "output_type": "execute_result"
    }
   ],
   "source": [
    "os.listdir('datasets')"
   ]
  },
  {
   "cell_type": "markdown",
   "metadata": {},
   "source": [
    "### Initialising the CNN"
   ]
  },
  {
   "cell_type": "code",
   "execution_count": 16,
   "metadata": {},
   "outputs": [],
   "source": [
    "classifier = Sequential()\n",
    "\n",
    "classifier.add(Convolution2D(filters = 16,\n",
    "                            kernel_size = (5, 5),\n",
    "                            input_shape = (512, 512, 1),\n",
    "                            activation = 'relu'))\n",
    "\n",
    "classifier.add(MaxPooling2D(pool_size = (2, 2)))\n",
    "classifier.add(Dropout(.2))\n",
    "classifier.add(Convolution2D(filters = 32,\n",
    "                            kernel_size = (5, 5),\n",
    "                            activation = 'relu'))"
   ]
  },
  {
   "cell_type": "markdown",
   "metadata": {},
   "source": [
    "### Adding a second maxpooling layer"
   ]
  },
  {
   "cell_type": "code",
   "execution_count": 17,
   "metadata": {},
   "outputs": [],
   "source": [
    "classifier.add(MaxPooling2D(pool_size = (2, 2)))\n",
    "classifier.add(Dropout(.2))"
   ]
  },
  {
   "cell_type": "markdown",
   "metadata": {},
   "source": [
    "### Flattening"
   ]
  },
  {
   "cell_type": "code",
   "execution_count": 18,
   "metadata": {},
   "outputs": [],
   "source": [
    "classifier.add(Flatten())"
   ]
  },
  {
   "cell_type": "markdown",
   "metadata": {},
   "source": [
    "### Full connection"
   ]
  },
  {
   "cell_type": "code",
   "execution_count": 19,
   "metadata": {},
   "outputs": [],
   "source": [
    "classifier.add(Dense(units = 128, activation = 'relu'))\n",
    "classifier.add(Dense(units = 1, activation = 'sigmoid'))"
   ]
  },
  {
   "cell_type": "markdown",
   "metadata": {},
   "source": [
    "### Compiling the CNN"
   ]
  },
  {
   "cell_type": "code",
   "execution_count": 20,
   "metadata": {},
   "outputs": [],
   "source": [
    "classifier.compile(optimizer = 'adam',\n",
    "                    loss = 'binary_crossentropy',\n",
    "                    metrics = ['accuracy'])"
   ]
  },
  {
   "cell_type": "code",
   "execution_count": 21,
   "metadata": {},
   "outputs": [
    {
     "name": "stdout",
     "output_type": "stream",
     "text": [
      "Model: \"sequential\"\n",
      "_________________________________________________________________\n",
      " Layer (type)                Output Shape              Param #   \n",
      "=================================================================\n",
      " conv2d (Conv2D)             (None, 508, 508, 16)      416       \n",
      "                                                                 \n",
      " max_pooling2d (MaxPooling2D  (None, 254, 254, 16)     0         \n",
      " )                                                               \n",
      "                                                                 \n",
      " dropout (Dropout)           (None, 254, 254, 16)      0         \n",
      "                                                                 \n",
      " conv2d_1 (Conv2D)           (None, 250, 250, 32)      12832     \n",
      "                                                                 \n",
      " max_pooling2d_1 (MaxPooling  (None, 125, 125, 32)     0         \n",
      " 2D)                                                             \n",
      "                                                                 \n",
      " dropout_1 (Dropout)         (None, 125, 125, 32)      0         \n",
      "                                                                 \n",
      " flatten (Flatten)           (None, 500000)            0         \n",
      "                                                                 \n",
      " dense (Dense)               (None, 128)               64000128  \n",
      "                                                                 \n",
      " dense_1 (Dense)             (None, 1)                 129       \n",
      "                                                                 \n",
      "=================================================================\n",
      "Total params: 64,013,505\n",
      "Trainable params: 64,013,505\n",
      "Non-trainable params: 0\n",
      "_________________________________________________________________\n"
     ]
    }
   ],
   "source": [
    "classifier.summary()"
   ]
  },
  {
   "cell_type": "code",
   "execution_count": 22,
   "metadata": {},
   "outputs": [],
   "source": [
    "def to_grayscale_then_rgb(image):\n",
    "    # image = tf.image.rgb_to_grayscale(image)\n",
    "    # image = tf.image.grayscale_to_rgb(image)\n",
    "    return image"
   ]
  },
  {
   "cell_type": "code",
   "execution_count": 23,
   "metadata": {},
   "outputs": [],
   "source": [
    "train_datagen = ImageDataGenerator(rescale = 1/255,\n",
    "                                    preprocessing_function = to_grayscale_then_rgb)\n",
    "\n",
    "test_datagen = ImageDataGenerator(rescale = 1/255, preprocessing_function = to_grayscale_then_rgb)"
   ]
  },
  {
   "cell_type": "code",
   "execution_count": 24,
   "metadata": {},
   "outputs": [
    {
     "name": "stdout",
     "output_type": "stream",
     "text": [
      "Found 200 images belonging to 2 classes.\n",
      "Found 120 images belonging to 2 classes.\n"
     ]
    }
   ],
   "source": [
    "tr = train_datagen.flow_from_directory(\n",
    "        'datasets/training_set',\n",
    "        target_size = (512, 512),\n",
    "        batch_size = 2,\n",
    "        class_mode = 'binary',\n",
    "        color_mode = 'grayscale')\n",
    "\n",
    "tx = test_datagen.flow_from_directory(\n",
    "        'datasets/test_set',\n",
    "        target_size = (512, 512),\n",
    "        batch_size = 2,\n",
    "        class_mode = 'binary',\n",
    "        color_mode = 'grayscale')"
   ]
  },
  {
   "cell_type": "code",
   "execution_count": 25,
   "metadata": {},
   "outputs": [
    {
     "data": {
      "text/plain": [
       "(512, 512, 1)"
      ]
     },
     "execution_count": 25,
     "metadata": {},
     "output_type": "execute_result"
    }
   ],
   "source": [
    "tr.image_shape"
   ]
  },
  {
   "cell_type": "code",
   "execution_count": 26,
   "metadata": {},
   "outputs": [
    {
     "data": {
      "text/plain": [
       "(512, 512, 1)"
      ]
     },
     "execution_count": 26,
     "metadata": {},
     "output_type": "execute_result"
    }
   ],
   "source": [
    "tx.image_shape"
   ]
  },
  {
   "cell_type": "code",
   "execution_count": 27,
   "metadata": {},
   "outputs": [
    {
     "name": "stdout",
     "output_type": "stream",
     "text": [
      "Epoch 1/100\n",
      "5/5 [==============================] - 64s 11s/step - loss: 4.4132 - accuracy: 0.7000 - val_loss: 1.5901 - val_accuracy: 0.5000\n",
      "Epoch 2/100\n",
      "5/5 [==============================] - 71s 15s/step - loss: 10.6114 - accuracy: 0.4000 - val_loss: 0.8125 - val_accuracy: 0.5000\n",
      "Epoch 3/100\n",
      "5/5 [==============================] - 38s 8s/step - loss: 2.3939 - accuracy: 0.4000 - val_loss: 0.6926 - val_accuracy: 0.4750\n",
      "Epoch 4/100\n",
      "5/5 [==============================] - 34s 7s/step - loss: 0.6553 - accuracy: 0.7000 - val_loss: 0.6928 - val_accuracy: 0.5000\n",
      "Epoch 5/100\n",
      "5/5 [==============================] - 38s 8s/step - loss: 0.6878 - accuracy: 0.6000 - val_loss: 0.6924 - val_accuracy: 0.5250\n",
      "Epoch 6/100\n",
      "5/5 [==============================] - 37s 8s/step - loss: 0.7528 - accuracy: 0.5000 - val_loss: 0.6905 - val_accuracy: 0.6000\n",
      "Epoch 7/100\n",
      "5/5 [==============================] - 34s 7s/step - loss: 0.6811 - accuracy: 0.6000 - val_loss: 0.6942 - val_accuracy: 0.4250\n",
      "Epoch 8/100\n",
      "5/5 [==============================] - 35s 8s/step - loss: 0.6855 - accuracy: 0.5000 - val_loss: 0.6941 - val_accuracy: 0.4250\n",
      "Epoch 9/100\n",
      "5/5 [==============================] - 35s 8s/step - loss: 0.6676 - accuracy: 0.7000 - val_loss: 0.6869 - val_accuracy: 0.6000\n",
      "Epoch 10/100\n",
      "5/5 [==============================] - 58s 11s/step - loss: 0.8622 - accuracy: 0.6000 - val_loss: 0.6837 - val_accuracy: 0.5250\n",
      "Epoch 11/100\n",
      "5/5 [==============================] - 31s 7s/step - loss: 0.6518 - accuracy: 0.4000 - val_loss: 0.6868 - val_accuracy: 0.6000\n",
      "Epoch 12/100\n",
      "5/5 [==============================] - 29s 6s/step - loss: 0.6846 - accuracy: 0.6000 - val_loss: 0.6932 - val_accuracy: 0.5000\n",
      "Epoch 13/100\n",
      "5/5 [==============================] - 29s 6s/step - loss: 0.6892 - accuracy: 0.5000 - val_loss: 0.6945 - val_accuracy: 0.4250\n",
      "Epoch 14/100\n",
      "5/5 [==============================] - 25s 5s/step - loss: 0.6893 - accuracy: 0.4000 - val_loss: 0.6945 - val_accuracy: 0.4250\n",
      "Epoch 15/100\n",
      "5/5 [==============================] - 24s 5s/step - loss: 0.6848 - accuracy: 0.5000 - val_loss: 0.6929 - val_accuracy: 0.5000\n",
      "Epoch 16/100\n",
      "5/5 [==============================] - 24s 5s/step - loss: 0.6817 - accuracy: 0.7000 - val_loss: 0.6943 - val_accuracy: 0.4250\n",
      "Epoch 17/100\n",
      "5/5 [==============================] - 29s 7s/step - loss: 0.6908 - accuracy: 0.5000 - val_loss: 0.6917 - val_accuracy: 0.5500\n",
      "Epoch 18/100\n",
      "5/5 [==============================] - 24s 5s/step - loss: 0.6784 - accuracy: 0.7000 - val_loss: 0.6934 - val_accuracy: 0.4750\n",
      "Epoch 19/100\n",
      "5/5 [==============================] - 24s 5s/step - loss: 0.6852 - accuracy: 0.5000 - val_loss: 0.6895 - val_accuracy: 0.5750\n",
      "Epoch 20/100\n",
      "5/5 [==============================] - 24s 5s/step - loss: 0.6877 - accuracy: 0.5000 - val_loss: 0.6938 - val_accuracy: 0.4000\n",
      "Epoch 21/100\n",
      "5/5 [==============================] - 23s 5s/step - loss: 0.6866 - accuracy: 0.4000 - val_loss: 0.6864 - val_accuracy: 0.5500\n",
      "Epoch 22/100\n",
      "5/5 [==============================] - 24s 5s/step - loss: 0.6954 - accuracy: 0.5000 - val_loss: 0.6858 - val_accuracy: 0.5500\n",
      "Epoch 23/100\n",
      "5/5 [==============================] - 24s 5s/step - loss: 0.6827 - accuracy: 0.6000 - val_loss: 0.6798 - val_accuracy: 0.7750\n",
      "Epoch 24/100\n",
      "5/5 [==============================] - 24s 5s/step - loss: 0.6599 - accuracy: 0.7000 - val_loss: 0.6743 - val_accuracy: 0.9500\n",
      "Epoch 25/100\n",
      "5/5 [==============================] - 23s 5s/step - loss: 0.6386 - accuracy: 0.8000 - val_loss: 0.6674 - val_accuracy: 0.9250\n",
      "Epoch 26/100\n",
      "5/5 [==============================] - 24s 5s/step - loss: 0.5978 - accuracy: 0.9000 - val_loss: 0.6033 - val_accuracy: 0.8250\n",
      "Epoch 27/100\n",
      "5/5 [==============================] - 24s 5s/step - loss: 0.5430 - accuracy: 0.7000 - val_loss: 0.5544 - val_accuracy: 0.7000\n",
      "Epoch 28/100\n",
      "5/5 [==============================] - 24s 5s/step - loss: 0.6786 - accuracy: 0.6000 - val_loss: 0.5800 - val_accuracy: 0.8000\n",
      "Epoch 29/100\n",
      "5/5 [==============================] - 24s 5s/step - loss: 0.5509 - accuracy: 0.8000 - val_loss: 0.5530 - val_accuracy: 0.6750\n",
      "Epoch 30/100\n",
      "5/5 [==============================] - 23s 5s/step - loss: 0.5764 - accuracy: 0.7000 - val_loss: 0.5118 - val_accuracy: 0.7750\n",
      "Epoch 31/100\n",
      "5/5 [==============================] - 23s 5s/step - loss: 0.2841 - accuracy: 0.9000 - val_loss: 0.4801 - val_accuracy: 0.7750\n",
      "Epoch 32/100\n",
      "5/5 [==============================] - 23s 5s/step - loss: 0.4381 - accuracy: 0.7000 - val_loss: 1.0511 - val_accuracy: 0.5000\n",
      "Epoch 33/100\n",
      "5/5 [==============================] - 23s 5s/step - loss: 0.7372 - accuracy: 0.6000 - val_loss: 0.5700 - val_accuracy: 0.7000\n",
      "Epoch 34/100\n",
      "5/5 [==============================] - 23s 5s/step - loss: 0.4748 - accuracy: 0.9000 - val_loss: 0.6027 - val_accuracy: 0.8250\n",
      "Epoch 35/100\n",
      "5/5 [==============================] - 23s 5s/step - loss: 0.5681 - accuracy: 0.7000 - val_loss: 0.5887 - val_accuracy: 0.7250\n",
      "Epoch 36/100\n",
      "5/5 [==============================] - 23s 5s/step - loss: 0.4266 - accuracy: 0.9000 - val_loss: 0.5317 - val_accuracy: 0.8500\n",
      "Epoch 37/100\n",
      "5/5 [==============================] - 23s 5s/step - loss: 0.3183 - accuracy: 0.9000 - val_loss: 0.4645 - val_accuracy: 0.7750\n",
      "Epoch 38/100\n",
      "5/5 [==============================] - 23s 5s/step - loss: 0.5373 - accuracy: 0.6000 - val_loss: 0.4277 - val_accuracy: 0.8500\n",
      "Epoch 39/100\n",
      "5/5 [==============================] - 23s 5s/step - loss: 0.2292 - accuracy: 1.0000 - val_loss: 0.5651 - val_accuracy: 0.7000\n",
      "Epoch 40/100\n",
      "5/5 [==============================] - 23s 5s/step - loss: 0.5655 - accuracy: 0.8000 - val_loss: 0.5307 - val_accuracy: 0.7750\n",
      "Epoch 41/100\n",
      "5/5 [==============================] - 23s 5s/step - loss: 0.6499 - accuracy: 0.7000 - val_loss: 0.4914 - val_accuracy: 0.7500\n",
      "Epoch 42/100\n",
      "5/5 [==============================] - 23s 5s/step - loss: 0.5998 - accuracy: 0.7000 - val_loss: 0.6086 - val_accuracy: 0.7750\n",
      "Epoch 43/100\n",
      "5/5 [==============================] - 25s 5s/step - loss: 0.4904 - accuracy: 0.9000 - val_loss: 0.5318 - val_accuracy: 0.8750\n",
      "Epoch 44/100\n",
      "5/5 [==============================] - 24s 5s/step - loss: 0.3495 - accuracy: 1.0000 - val_loss: 0.3809 - val_accuracy: 0.9000\n",
      "Epoch 45/100\n",
      "5/5 [==============================] - 23s 5s/step - loss: 0.3815 - accuracy: 0.9000 - val_loss: 0.3750 - val_accuracy: 0.8000\n",
      "Epoch 46/100\n",
      "5/5 [==============================] - 24s 5s/step - loss: 0.3376 - accuracy: 0.9000 - val_loss: 0.4379 - val_accuracy: 0.7250\n",
      "Epoch 47/100\n",
      "5/5 [==============================] - 24s 5s/step - loss: 0.1110 - accuracy: 0.9000 - val_loss: 0.2166 - val_accuracy: 0.9500\n",
      "Epoch 48/100\n",
      "5/5 [==============================] - 25s 6s/step - loss: 0.7391 - accuracy: 0.7000 - val_loss: 0.1939 - val_accuracy: 0.9250\n",
      "Epoch 49/100\n",
      "5/5 [==============================] - 24s 5s/step - loss: 0.1300 - accuracy: 1.0000 - val_loss: 0.2973 - val_accuracy: 0.9250\n",
      "Epoch 50/100\n",
      "5/5 [==============================] - 23s 5s/step - loss: 0.1998 - accuracy: 0.9000 - val_loss: 0.3090 - val_accuracy: 0.8500\n",
      "Epoch 51/100\n",
      "5/5 [==============================] - 23s 5s/step - loss: 0.5649 - accuracy: 0.8000 - val_loss: 0.3865 - val_accuracy: 0.8250\n",
      "Epoch 52/100\n",
      "5/5 [==============================] - 23s 5s/step - loss: 0.0473 - accuracy: 1.0000 - val_loss: 0.9612 - val_accuracy: 0.6250\n",
      "Epoch 53/100\n",
      "5/5 [==============================] - 24s 5s/step - loss: 1.1023 - accuracy: 0.6000 - val_loss: 0.7092 - val_accuracy: 0.5500\n",
      "Epoch 54/100\n",
      "5/5 [==============================] - 23s 5s/step - loss: 0.7033 - accuracy: 0.7000 - val_loss: 0.5344 - val_accuracy: 0.8500\n",
      "Epoch 55/100\n",
      "5/5 [==============================] - 23s 5s/step - loss: 0.3985 - accuracy: 0.9000 - val_loss: 0.4941 - val_accuracy: 0.9500\n",
      "Epoch 56/100\n",
      "5/5 [==============================] - 23s 5s/step - loss: 0.5046 - accuracy: 0.7000 - val_loss: 0.4041 - val_accuracy: 1.0000\n",
      "Epoch 57/100\n",
      "5/5 [==============================] - 23s 5s/step - loss: 0.1885 - accuracy: 1.0000 - val_loss: 0.2512 - val_accuracy: 0.9750\n",
      "Epoch 58/100\n",
      "5/5 [==============================] - 23s 5s/step - loss: 0.2814 - accuracy: 0.9000 - val_loss: 0.2002 - val_accuracy: 0.9250\n",
      "Epoch 59/100\n",
      "5/5 [==============================] - 23s 5s/step - loss: 0.1068 - accuracy: 1.0000 - val_loss: 0.1083 - val_accuracy: 0.9500\n",
      "Epoch 60/100\n",
      "5/5 [==============================] - 23s 5s/step - loss: 0.0315 - accuracy: 1.0000 - val_loss: 0.1187 - val_accuracy: 0.9750\n",
      "Epoch 61/100\n",
      "5/5 [==============================] - 23s 5s/step - loss: 0.0123 - accuracy: 1.0000 - val_loss: 0.1561 - val_accuracy: 0.9000\n",
      "Epoch 62/100\n",
      "5/5 [==============================] - 23s 5s/step - loss: 0.5066 - accuracy: 0.9000 - val_loss: 0.4408 - val_accuracy: 0.8250\n",
      "Epoch 63/100\n",
      "5/5 [==============================] - 23s 5s/step - loss: 0.0876 - accuracy: 1.0000 - val_loss: 0.5461 - val_accuracy: 0.8000\n",
      "Epoch 64/100\n",
      "5/5 [==============================] - 24s 5s/step - loss: 0.0216 - accuracy: 1.0000 - val_loss: 0.2437 - val_accuracy: 0.8750\n",
      "Epoch 65/100\n",
      "5/5 [==============================] - 24s 5s/step - loss: 0.1693 - accuracy: 0.9000 - val_loss: 0.2092 - val_accuracy: 0.8750\n",
      "Epoch 66/100\n",
      "5/5 [==============================] - 24s 5s/step - loss: 0.0132 - accuracy: 1.0000 - val_loss: 0.2874 - val_accuracy: 0.9000\n",
      "Epoch 67/100\n",
      "5/5 [==============================] - 23s 5s/step - loss: 0.0560 - accuracy: 1.0000 - val_loss: 0.4363 - val_accuracy: 0.8750\n",
      "Epoch 68/100\n",
      "5/5 [==============================] - 40s 9s/step - loss: 0.8467 - accuracy: 0.7000 - val_loss: 0.1402 - val_accuracy: 0.9250\n",
      "Epoch 69/100\n",
      "5/5 [==============================] - 31s 7s/step - loss: 0.2893 - accuracy: 0.9000 - val_loss: 0.2888 - val_accuracy: 0.8750\n",
      "Epoch 70/100\n",
      "5/5 [==============================] - 30s 7s/step - loss: 0.1680 - accuracy: 0.9000 - val_loss: 0.3045 - val_accuracy: 0.8750\n",
      "Epoch 71/100\n",
      "5/5 [==============================] - 31s 7s/step - loss: 0.2956 - accuracy: 0.9000 - val_loss: 0.3396 - val_accuracy: 0.8250\n",
      "Epoch 72/100\n",
      "5/5 [==============================] - 30s 7s/step - loss: 0.1862 - accuracy: 1.0000 - val_loss: 0.2840 - val_accuracy: 0.8750\n",
      "Epoch 73/100\n",
      "5/5 [==============================] - 31s 7s/step - loss: 0.1720 - accuracy: 1.0000 - val_loss: 0.1639 - val_accuracy: 0.9500\n",
      "Epoch 74/100\n",
      "5/5 [==============================] - 35s 8s/step - loss: 0.1329 - accuracy: 0.9000 - val_loss: 0.2050 - val_accuracy: 0.9500\n",
      "Epoch 75/100\n",
      "5/5 [==============================] - 46s 10s/step - loss: 0.3104 - accuracy: 0.9000 - val_loss: 0.2027 - val_accuracy: 0.9000\n",
      "Epoch 76/100\n",
      "5/5 [==============================] - 75s 17s/step - loss: 0.0554 - accuracy: 1.0000 - val_loss: 0.2288 - val_accuracy: 0.9000\n",
      "Epoch 77/100\n",
      "5/5 [==============================] - 43s 9s/step - loss: 0.0108 - accuracy: 1.0000 - val_loss: 0.1870 - val_accuracy: 0.9250\n",
      "Epoch 78/100\n",
      "5/5 [==============================] - 36s 8s/step - loss: 0.0046 - accuracy: 1.0000 - val_loss: 0.0674 - val_accuracy: 1.0000\n",
      "Epoch 79/100\n",
      "5/5 [==============================] - 30s 6s/step - loss: 0.0241 - accuracy: 1.0000 - val_loss: 0.1042 - val_accuracy: 0.9750\n",
      "Epoch 80/100\n",
      "5/5 [==============================] - 26s 6s/step - loss: 0.0065 - accuracy: 1.0000 - val_loss: 0.0726 - val_accuracy: 0.9500\n",
      "Epoch 81/100\n",
      "5/5 [==============================] - 24s 5s/step - loss: 0.3567 - accuracy: 0.8000 - val_loss: 0.4401 - val_accuracy: 0.8250\n",
      "Epoch 82/100\n",
      "5/5 [==============================] - 24s 5s/step - loss: 0.7626 - accuracy: 0.8000 - val_loss: 0.1394 - val_accuracy: 0.9750\n",
      "Epoch 83/100\n",
      "5/5 [==============================] - 25s 6s/step - loss: 0.3330 - accuracy: 0.9000 - val_loss: 0.2144 - val_accuracy: 0.9000\n",
      "Epoch 84/100\n",
      "5/5 [==============================] - 22s 5s/step - loss: 0.1120 - accuracy: 1.0000 - val_loss: 0.2301 - val_accuracy: 0.9500\n",
      "Epoch 85/100\n",
      "5/5 [==============================] - 27s 6s/step - loss: 0.0379 - accuracy: 1.0000 - val_loss: 0.1369 - val_accuracy: 0.9750\n",
      "Epoch 86/100\n",
      "5/5 [==============================] - 23s 5s/step - loss: 0.4109 - accuracy: 0.9000 - val_loss: 0.0900 - val_accuracy: 0.9750\n",
      "Epoch 87/100\n",
      "5/5 [==============================] - 22s 5s/step - loss: 0.0634 - accuracy: 1.0000 - val_loss: 0.0955 - val_accuracy: 0.9750\n",
      "Epoch 88/100\n",
      "5/5 [==============================] - 33s 7s/step - loss: 0.0195 - accuracy: 1.0000 - val_loss: 0.0952 - val_accuracy: 0.9750\n",
      "Epoch 89/100\n",
      "5/5 [==============================] - 35s 8s/step - loss: 0.0387 - accuracy: 1.0000 - val_loss: 0.1111 - val_accuracy: 0.9500\n",
      "Epoch 90/100\n",
      "5/5 [==============================] - 48s 11s/step - loss: 0.0935 - accuracy: 1.0000 - val_loss: 0.1064 - val_accuracy: 0.9500\n",
      "Epoch 91/100\n",
      "5/5 [==============================] - 46s 10s/step - loss: 0.0171 - accuracy: 1.0000 - val_loss: 0.1021 - val_accuracy: 0.9750\n",
      "Epoch 92/100\n",
      "5/5 [==============================] - 31s 7s/step - loss: 0.0100 - accuracy: 1.0000 - val_loss: 0.1029 - val_accuracy: 0.9500\n",
      "Epoch 93/100\n",
      "5/5 [==============================] - 28s 6s/step - loss: 0.0017 - accuracy: 1.0000 - val_loss: 0.0857 - val_accuracy: 0.9750\n",
      "Epoch 94/100\n",
      "5/5 [==============================] - 36s 8s/step - loss: 0.0015 - accuracy: 1.0000 - val_loss: 0.0836 - val_accuracy: 0.9750\n",
      "Epoch 95/100\n",
      "5/5 [==============================] - 34s 8s/step - loss: 0.0145 - accuracy: 1.0000 - val_loss: 0.0823 - val_accuracy: 0.9750\n",
      "Epoch 96/100\n",
      "5/5 [==============================] - 34s 7s/step - loss: 0.4968 - accuracy: 0.8000 - val_loss: 0.0405 - val_accuracy: 0.9750\n",
      "Epoch 97/100\n",
      "5/5 [==============================] - 33s 7s/step - loss: 0.0407 - accuracy: 1.0000 - val_loss: 0.0188 - val_accuracy: 1.0000\n",
      "Epoch 98/100\n",
      "5/5 [==============================] - 34s 7s/step - loss: 0.0188 - accuracy: 1.0000 - val_loss: 0.0343 - val_accuracy: 1.0000\n",
      "Epoch 99/100\n",
      "5/5 [==============================] - 34s 7s/step - loss: 0.0486 - accuracy: 1.0000 - val_loss: 0.1068 - val_accuracy: 0.9750\n",
      "Epoch 100/100\n",
      "5/5 [==============================] - 38s 8s/step - loss: 0.1617 - accuracy: 0.9000 - val_loss: 0.0455 - val_accuracy: 1.0000\n"
     ]
    }
   ],
   "source": [
    "history = classifier.fit(tr,\n",
    "                        steps_per_epoch = 5,\n",
    "                        epochs = 100,\n",
    "                        validation_data = tx,\n",
    "                        validation_steps = 20)"
   ]
  },
  {
   "cell_type": "code",
   "execution_count": 28,
   "metadata": {},
   "outputs": [
    {
     "data": {
      "text/plain": [
       "[<matplotlib.lines.Line2D at 0x279a865ff10>]"
      ]
     },
     "execution_count": 28,
     "metadata": {},
     "output_type": "execute_result"
    },
    {
     "data": {
      "image/png": "[encoded data removed]",
      "text/plain": [
       "<Figure size 432x288 with 1 Axes>"
      ]
     },
     "metadata": {
      "needs_background": "light"
     },
     "output_type": "display_data"
    }
   ],
   "source": [
    "plt.plot(history.history['loss'])"
   ]
  },
  {
   "cell_type": "code",
   "execution_count": 29,
   "metadata": {},
   "outputs": [
    {
     "data": {
      "text/plain": [
       "[<matplotlib.lines.Line2D at 0x279a8af5e50>]"
      ]
     },
     "execution_count": 29,
     "metadata": {},
     "output_type": "execute_result"
    },
    {
     "data": {
      "image/png": "[encoded data removed]",
      "text/plain": [
       "<Figure size 432x288 with 1 Axes>"
      ]
     },
     "metadata": {
      "needs_background": "light"
     },
     "output_type": "display_data"
    }
   ],
   "source": [
    "plt.plot(history.history['accuracy'])"
   ]
  },
  {
   "cell_type": "code",
   "execution_count": 30,
   "metadata": {},
   "outputs": [
    {
     "name": "stdout",
     "output_type": "stream",
     "text": [
      "60/60 [==============================] - 40s 663ms/step - loss: 0.0509 - accuracy: 0.9917\n"
     ]
    },
    {
     "data": {
      "text/plain": [
       "[0.05090240761637688, 0.9916666746139526]"
      ]
     },
     "execution_count": 30,
     "metadata": {},
     "output_type": "execute_result"
    }
   ],
   "source": [
    "classifier.evaluate(tx)"
   ]
  },
  {
   "cell_type": "code",
   "execution_count": 31,
   "metadata": {},
   "outputs": [
    {
     "name": "stderr",
     "output_type": "stream",
     "text": [
      "WARNING:absl:Found untraced functions such as _jit_compiled_convolution_op, _jit_compiled_convolution_op while saving (showing 2 of 2). These functions will not be directly callable after loading.\n"
     ]
    },
    {
     "name": "stdout",
     "output_type": "stream",
     "text": [
      "INFO:tensorflow:Assets written to: ram://459e2289-91fc-477b-a585-87965692a4c7/assets\n"
     ]
    },
    {
     "name": "stderr",
     "output_type": "stream",
     "text": [
      "INFO:tensorflow:Assets written to: ram://459e2289-91fc-477b-a585-87965692a4c7/assets\n"
     ]
    },
    {
     "data": {
      "text/plain": [
       "['hand_rec_ap.pkl']"
      ]
     },
     "execution_count": 31,
     "metadata": {},
     "output_type": "execute_result"
    }
   ],
   "source": [
    "model_dict = {\n",
    "    'title' : 'Handwritting Recognition Model',\n",
    "    'classifier' : classifier\n",
    "}\n",
    "\n",
    "dump(model_dict,\"hand_rec_ap.pkl\")"
   ]
  },
  {
   "cell_type": "code",
   "execution_count": 32,
   "metadata": {},
   "outputs": [],
   "source": [
    "def load_model():\n",
    "    filepath = 'hand_rec_ap.pkl'\n",
    "    return load(filepath)"
   ]
  },
  {
   "cell_type": "code",
   "execution_count": 33,
   "metadata": {},
   "outputs": [],
   "source": [
    "classifier.save('classifier.h5')"
   ]
  },
  {
   "cell_type": "code",
   "execution_count": 34,
   "metadata": {},
   "outputs": [],
   "source": [
    "classifier = tf.keras.models.load_model('classifier.h5')"
   ]
  },
  {
   "cell_type": "code",
   "execution_count": 35,
   "metadata": {},
   "outputs": [
    {
     "data": {
      "text/plain": [
       "(1, 512, 512, 1)"
      ]
     },
     "execution_count": 35,
     "metadata": {},
     "output_type": "execute_result"
    }
   ],
   "source": [
    "img = tf.keras.utils.load_img(f'D:\\Projects\\handwritting_recognition_using_cnn\\datasets/test_set/Akash/01.jpg',color_mode='grayscale',target_size=(512,512,1))\n",
    "xinp = tf.keras.utils.img_to_array(img)\n",
    "np.array([xinp]).shape"
   ]
  },
  {
   "cell_type": "code",
   "execution_count": 36,
   "metadata": {},
   "outputs": [
    {
     "name": "stdout",
     "output_type": "stream",
     "text": [
      "1/1 [==============================] - 5s 5s/step\n",
      "[1.]\n"
     ]
    }
   ],
   "source": [
    "img = tf.keras.utils.load_img(f'D:\\Projects\\handwritting_recognition_using_cnn\\datasets/test_set/Anmol/01.jpg',color_mode='grayscale',target_size=(512,512,1))\n",
    "xinp = tf.keras.utils.img_to_array(img)\n",
    "pred = classifier.predict(np.array([xinp]))[0]\n",
    "print(pred)"
   ]
  },
  {
   "cell_type": "code",
   "execution_count": 37,
   "metadata": {},
   "outputs": [
    {
     "name": "stdout",
     "output_type": "stream",
     "text": [
      "second person\n"
     ]
    }
   ],
   "source": [
    "if pred < .5:\n",
    "    print('first person')\n",
    "else:\n",
    "    print('second person')"
   ]
  },
  {
   "cell_type": "code",
   "execution_count": 38,
   "metadata": {},
   "outputs": [
    {
     "name": "stdout",
     "output_type": "stream",
     "text": [
      "60/60 [==============================] - 48s 785ms/step\n"
     ]
    },
    {
     "data": {
      "text/plain": [
       "array([[1.9957526e-02],\n",
       "       [9.9264020e-01],\n",
       "       [7.5423056e-01],\n",
       "       [9.7541225e-01],\n",
       "       [2.5339847e-05],\n",
       "       [2.0169076e-02],\n",
       "       [9.9055982e-01],\n",
       "       [9.4922423e-01],\n",
       "       [9.9999982e-01],\n",
       "       [7.1280668e-03],\n",
       "       [9.9734360e-01],\n",
       "       [9.9410206e-01],\n",
       "       [5.1015900e-06],\n",
       "       [4.8324317e-03],\n",
       "       [8.3733170e-04],\n",
       "       [9.5209807e-01],\n",
       "       [9.9814886e-01],\n",
       "       [8.2784212e-01],\n",
       "       [9.7882291e-03],\n",
       "       [9.9854481e-01],\n",
       "       [1.2297444e-02],\n",
       "       [6.5947711e-01],\n",
       "       [8.4254635e-04],\n",
       "       [1.2946161e-02],\n",
       "       [2.8593434e-02],\n",
       "       [9.9859852e-01],\n",
       "       [1.5915051e-05],\n",
       "       [9.6784222e-01],\n",
       "       [9.9291044e-01],\n",
       "       [9.9577194e-01],\n",
       "       [5.8964016e-03],\n",
       "       [9.9856448e-01],\n",
       "       [7.5061794e-04],\n",
       "       [1.8031409e-02],\n",
       "       [9.0422016e-01],\n",
       "       [4.3844618e-04],\n",
       "       [9.9692178e-01],\n",
       "       [9.7925174e-01],\n",
       "       [4.4853605e-02],\n",
       "       [8.5889557e-03],\n",
       "       [3.8262684e-02],\n",
       "       [9.9639408e-04],\n",
       "       [2.5677728e-03],\n",
       "       [8.1512018e-04],\n",
       "       [9.7354263e-01],\n",
       "       [9.9280173e-01],\n",
       "       [1.3113817e-03],\n",
       "       [2.6292516e-02],\n",
       "       [2.9458560e-04],\n",
       "       [9.9872875e-01],\n",
       "       [1.0220620e-03],\n",
       "       [6.0679358e-01],\n",
       "       [9.5587003e-01],\n",
       "       [9.1913289e-01],\n",
       "       [1.1800263e-02],\n",
       "       [2.4471205e-02],\n",
       "       [9.7905153e-01],\n",
       "       [1.9428121e-02],\n",
       "       [9.9534547e-01],\n",
       "       [9.6084529e-01],\n",
       "       [8.9492494e-01],\n",
       "       [9.4259673e-01],\n",
       "       [9.9599433e-01],\n",
       "       [3.8330406e-03],\n",
       "       [8.3383881e-03],\n",
       "       [8.1906905e-03],\n",
       "       [9.4375390e-01],\n",
       "       [9.9136192e-01],\n",
       "       [4.3580122e-02],\n",
       "       [7.1539775e-02],\n",
       "       [9.4109482e-01],\n",
       "       [9.6963322e-01],\n",
       "       [4.5453524e-03],\n",
       "       [9.6222031e-01],\n",
       "       [9.6057035e-02],\n",
       "       [9.7025704e-01],\n",
       "       [9.9048775e-01],\n",
       "       [1.9734886e-03],\n",
       "       [1.1631004e-02],\n",
       "       [1.3293304e-01],\n",
       "       [1.1068590e-02],\n",
       "       [3.9171699e-02],\n",
       "       [4.2086277e-02],\n",
       "       [9.3949717e-01],\n",
       "       [4.5042943e-02],\n",
       "       [9.9401468e-01],\n",
       "       [9.9002337e-01],\n",
       "       [9.6455193e-01],\n",
       "       [8.0764443e-03],\n",
       "       [1.1925236e-03],\n",
       "       [5.1070452e-03],\n",
       "       [5.9564174e-03],\n",
       "       [9.7212797e-01],\n",
       "       [9.9886882e-01],\n",
       "       [9.8397613e-01],\n",
       "       [9.5916247e-01],\n",
       "       [9.8577279e-01],\n",
       "       [6.7809643e-04],\n",
       "       [9.7673517e-01],\n",
       "       [1.3451397e-01],\n",
       "       [9.0432161e-01],\n",
       "       [4.1680881e-03],\n",
       "       [6.3344531e-05],\n",
       "       [4.2429770e-06],\n",
       "       [9.4065738e-01],\n",
       "       [9.9994445e-01],\n",
       "       [3.3764000e-04],\n",
       "       [1.0732511e-03],\n",
       "       [1.5755255e-02],\n",
       "       [9.9673396e-01],\n",
       "       [9.9732244e-01],\n",
       "       [1.6035886e-04],\n",
       "       [9.9999923e-01],\n",
       "       [2.8345790e-02],\n",
       "       [4.4261277e-04],\n",
       "       [6.9725334e-05],\n",
       "       [9.8633671e-01],\n",
       "       [9.6020013e-01],\n",
       "       [1.3283348e-01],\n",
       "       [8.2825369e-01]], dtype=float32)"
      ]
     },
     "execution_count": 38,
     "metadata": {},
     "output_type": "execute_result"
    }
   ],
   "source": [
    "classifier.predict(tx)"
   ]
  },
  {
   "cell_type": "code",
   "execution_count": 39,
   "metadata": {},
   "outputs": [
    {
     "name": "stdout",
     "output_type": "stream",
     "text": [
      "1/1 [==============================] - 1s 603ms/step\n",
      "[0.]\n",
      "first person\n",
      "1/1 [==============================] - 0s 457ms/step\n",
      "[0.]\n",
      "first person\n",
      "1/1 [==============================] - 1s 501ms/step\n",
      "[0.]\n",
      "first person\n",
      "1/1 [==============================] - 0s 489ms/step\n",
      "[0.]\n",
      "first person\n",
      "1/1 [==============================] - 1s 514ms/step\n",
      "[0.]\n",
      "first person\n",
      "1/1 [==============================] - 1s 649ms/step\n",
      "[0.]\n",
      "first person\n",
      "1/1 [==============================] - 1s 575ms/step\n",
      "[0.]\n",
      "first person\n",
      "1/1 [==============================] - 1s 503ms/step\n",
      "[0.]\n",
      "first person\n",
      "1/1 [==============================] - 1s 667ms/step\n",
      "[0.]\n",
      "first person\n",
      "1/1 [==============================] - 1s 580ms/step\n",
      "[0.]\n",
      "first person\n",
      "1/1 [==============================] - 0s 463ms/step\n",
      "[0.]\n",
      "first person\n",
      "1/1 [==============================] - 0s 476ms/step\n",
      "[0.]\n",
      "first person\n",
      "1/1 [==============================] - 1s 519ms/step\n",
      "[0.]\n",
      "first person\n",
      "1/1 [==============================] - 1s 579ms/step\n",
      "[0.]\n",
      "first person\n",
      "1/1 [==============================] - 0s 488ms/step\n",
      "[0.]\n",
      "first person\n",
      "1/1 [==============================] - 0s 444ms/step\n",
      "[0.]\n",
      "first person\n",
      "1/1 [==============================] - 0s 465ms/step\n",
      "[0.]\n",
      "first person\n",
      "1/1 [==============================] - 0s 499ms/step\n",
      "[0.]\n",
      "first person\n",
      "1/1 [==============================] - 1s 513ms/step\n",
      "[0.]\n",
      "first person\n",
      "1/1 [==============================] - 0s 482ms/step\n",
      "[0.]\n",
      "first person\n",
      "1/1 [==============================] - 0s 467ms/step\n",
      "[0.]\n",
      "first person\n",
      "1/1 [==============================] - 1s 515ms/step\n",
      "[0.]\n",
      "first person\n",
      "1/1 [==============================] - 0s 463ms/step\n",
      "[0.]\n",
      "first person\n",
      "1/1 [==============================] - 0s 444ms/step\n",
      "[0.]\n",
      "first person\n",
      "1/1 [==============================] - 0s 430ms/step\n",
      "[0.]\n",
      "first person\n",
      "1/1 [==============================] - 0s 452ms/step\n",
      "[0.]\n",
      "first person\n",
      "1/1 [==============================] - 0s 457ms/step\n",
      "[0.]\n",
      "first person\n",
      "1/1 [==============================] - 0s 471ms/step\n",
      "[0.]\n",
      "first person\n",
      "1/1 [==============================] - 0s 434ms/step\n",
      "[0.]\n",
      "first person\n",
      "1/1 [==============================] - 0s 479ms/step\n",
      "[0.]\n",
      "first person\n",
      "1/1 [==============================] - 1s 503ms/step\n",
      "[0.]\n",
      "first person\n",
      "1/1 [==============================] - 0s 450ms/step\n",
      "[0.]\n",
      "first person\n",
      "1/1 [==============================] - 0s 486ms/step\n",
      "[0.]\n",
      "first person\n",
      "1/1 [==============================] - 0s 498ms/step\n",
      "[0.]\n",
      "first person\n",
      "1/1 [==============================] - 0s 434ms/step\n",
      "[0.]\n",
      "first person\n",
      "1/1 [==============================] - 0s 436ms/step\n",
      "[0.]\n",
      "first person\n",
      "1/1 [==============================] - 0s 488ms/step\n",
      "[0.]\n",
      "first person\n",
      "1/1 [==============================] - 0s 462ms/step\n",
      "[0.]\n",
      "first person\n",
      "1/1 [==============================] - 0s 446ms/step\n",
      "[0.]\n",
      "first person\n"
     ]
    }
   ],
   "source": [
    "ans = []\n",
    "for i in range(11,50):\n",
    "    img = tf.keras.utils.load_img(f'D:\\Projects\\handwritting_recognition_using_cnn\\datasets/training_set\\Akash\\{i}.jpg',color_mode='grayscale',target_size=(512,512,1))\n",
    "    xinp = tf.keras.utils.img_to_array(img)\n",
    "    pred = classifier.predict(np.array([xinp]))[0]\n",
    "    print(pred)\n",
    "\n",
    "    if pred < .5:\n",
    "        print('first person')\n",
    "        ans.append(0)\n",
    "    else:\n",
    "        print('second person')\n",
    "        ans.append(1)"
   ]
  },
  {
   "cell_type": "code",
   "execution_count": 40,
   "metadata": {},
   "outputs": [
    {
     "name": "stdout",
     "output_type": "stream",
     "text": [
      "[0, 0, 0, 0, 0, 0, 0, 0, 0, 0, 0, 0, 0, 0, 0, 0, 0, 0, 0, 0, 0, 0, 0, 0, 0, 0, 0, 0, 0, 0, 0, 0, 0, 0, 0, 0, 0, 0, 0]\n"
     ]
    }
   ],
   "source": [
    "print(ans)"
   ]
  },
  {
   "cell_type": "code",
   "execution_count": 41,
   "metadata": {},
   "outputs": [
    {
     "name": "stdout",
     "output_type": "stream",
     "text": [
      "1/1 [==============================] - 1s 600ms/step\n",
      "[1.]\n",
      "second person\n",
      "1/1 [==============================] - 1s 949ms/step\n",
      "[1.]\n",
      "second person\n",
      "1/1 [==============================] - 1s 1s/step\n",
      "[1.]\n",
      "second person\n",
      "1/1 [==============================] - 1s 1s/step\n",
      "[1.]\n",
      "second person\n",
      "1/1 [==============================] - 1s 1s/step\n",
      "[1.]\n",
      "second person\n",
      "1/1 [==============================] - 1s 1s/step\n",
      "[1.]\n",
      "second person\n",
      "1/1 [==============================] - 1s 567ms/step\n",
      "[1.]\n",
      "second person\n",
      "1/1 [==============================] - 1s 629ms/step\n",
      "[1.]\n",
      "second person\n",
      "1/1 [==============================] - 1s 879ms/step\n",
      "[1.]\n",
      "second person\n",
      "1/1 [==============================] - 1s 982ms/step\n",
      "[0.]\n",
      "first person\n",
      "1/1 [==============================] - 1s 904ms/step\n",
      "[1.]\n",
      "second person\n",
      "1/1 [==============================] - 1s 1s/step\n",
      "[1.]\n",
      "second person\n",
      "1/1 [==============================] - 4s 4s/step\n",
      "[1.]\n",
      "second person\n",
      "1/1 [==============================] - 1s 899ms/step\n",
      "[1.]\n",
      "second person\n",
      "1/1 [==============================] - 1s 584ms/step\n",
      "[1.]\n",
      "second person\n",
      "1/1 [==============================] - 1s 615ms/step\n",
      "[1.]\n",
      "second person\n",
      "1/1 [==============================] - 1s 973ms/step\n",
      "[1.]\n",
      "second person\n",
      "1/1 [==============================] - 1s 814ms/step\n",
      "[1.]\n",
      "second person\n",
      "1/1 [==============================] - 1s 837ms/step\n",
      "[1.]\n",
      "second person\n",
      "1/1 [==============================] - 1s 569ms/step\n",
      "[1.]\n",
      "second person\n",
      "1/1 [==============================] - 1s 572ms/step\n",
      "[1.]\n",
      "second person\n",
      "1/1 [==============================] - 1s 599ms/step\n",
      "[1.]\n",
      "second person\n",
      "1/1 [==============================] - 1s 548ms/step\n",
      "[1.]\n",
      "second person\n",
      "1/1 [==============================] - 1s 577ms/step\n",
      "[1.]\n",
      "second person\n",
      "1/1 [==============================] - 1s 587ms/step\n",
      "[1.]\n",
      "second person\n",
      "1/1 [==============================] - 1s 711ms/step\n",
      "[1.]\n",
      "second person\n",
      "1/1 [==============================] - 1s 584ms/step\n",
      "[1.]\n",
      "second person\n",
      "1/1 [==============================] - 0s 477ms/step\n",
      "[1.]\n",
      "second person\n",
      "1/1 [==============================] - 0s 467ms/step\n",
      "[1.]\n",
      "second person\n",
      "1/1 [==============================] - 0s 445ms/step\n",
      "[1.]\n",
      "second person\n",
      "1/1 [==============================] - 0s 405ms/step\n",
      "[1.]\n",
      "second person\n",
      "1/1 [==============================] - 0s 390ms/step\n",
      "[1.]\n",
      "second person\n",
      "1/1 [==============================] - 0s 414ms/step\n",
      "[1.]\n",
      "second person\n",
      "1/1 [==============================] - 0s 393ms/step\n",
      "[1.]\n",
      "second person\n",
      "1/1 [==============================] - 0s 389ms/step\n",
      "[1.]\n",
      "second person\n",
      "1/1 [==============================] - 0s 406ms/step\n",
      "[1.]\n",
      "second person\n",
      "1/1 [==============================] - 0s 397ms/step\n",
      "[1.]\n",
      "second person\n",
      "1/1 [==============================] - 0s 399ms/step\n",
      "[1.]\n",
      "second person\n",
      "1/1 [==============================] - 0s 397ms/step\n",
      "[1.]\n",
      "second person\n"
     ]
    }
   ],
   "source": [
    "ans = []\n",
    "for i in range(11,50):\n",
    "    img = tf.keras.utils.load_img(f'D:\\Projects\\handwritting_recognition_using_cnn\\datasets/training_set\\Anmol\\{i}.jpg',color_mode='grayscale',target_size=(512,512,1))\n",
    "    xinp = tf.keras.utils.img_to_array(img)\n",
    "    pred = classifier.predict(np.array([xinp]))[0]\n",
    "    print(pred)\n",
    "\n",
    "    if pred < .5:\n",
    "        print('first person')\n",
    "        ans.append(0)\n",
    "    else:\n",
    "        print('second person')\n",
    "        ans.append(1)"
   ]
  },
  {
   "cell_type": "code",
   "execution_count": 42,
   "metadata": {},
   "outputs": [
    {
     "name": "stdout",
     "output_type": "stream",
     "text": [
      "[1, 1, 1, 1, 1, 1, 1, 1, 1, 0, 1, 1, 1, 1, 1, 1, 1, 1, 1, 1, 1, 1, 1, 1, 1, 1, 1, 1, 1, 1, 1, 1, 1, 1, 1, 1, 1, 1, 1]\n"
     ]
    }
   ],
   "source": [
    "print(ans)"
   ]
  },
  {
   "cell_type": "code",
   "execution_count": null,
   "metadata": {},
   "outputs": [],
   "source": []
  }
 ],
 "metadata": {
  "kernelspec": {
   "display_name": "Python 3.9.12 ('base')",
   "language": "python",
   "name": "python3"
  },
  "language_info": {
   "codemirror_mode": {
    "name": "ipython",
    "version": 3
   },
   "file_extension": ".py",
   "mimetype": "text/x-python",
   "name": "python",
   "nbconvert_exporter": "python",
   "pygments_lexer": "ipython3",
   "version": "3.9.12"
  },
  "orig_nbformat": 4,
  "vscode": {
   "interpreter": {
    "hash": "8c46ac5aaab4d3c9f2f9be91c3b9b95f2b8ede1f4aae554ca1e34eefcba1468b"
   }
  }
 },
 "nbformat": 4,
 "nbformat_minor": 2
}
